{
 "cells": [
  {
   "cell_type": "markdown",
   "metadata": {},
   "source": [
    "# Table of Contents\n",
    " <p><div class=\"lev1\"><a href=\"#Práctica-2\"><span class=\"toc-item-num\">1&nbsp;&nbsp;</span>Práctica 2</a></div><div class=\"lev2\"><a href=\"#Análisis-del-tráfico-de-la-red\"><span class=\"toc-item-num\">1.1&nbsp;&nbsp;</span>Análisis del tráfico de la red</a></div><div class=\"lev3\"><a href=\"#Descripción-de-los-datos\"><span class=\"toc-item-num\">1.1.1&nbsp;&nbsp;</span>Descripción de los datos</a></div><div class=\"lev1\"><a href=\"#Ejercicios\"><span class=\"toc-item-num\">2&nbsp;&nbsp;</span>Ejercicios</a></div><div class=\"lev2\"><a href=\"#Website-fingerprinting\"><span class=\"toc-item-num\">2.1&nbsp;&nbsp;</span><em>Website fingerprinting</em></a></div><div class=\"lev2\"><a href=\"#Importància-de-les-característiques\"><span class=\"toc-item-num\">2.2&nbsp;&nbsp;</span>Importancia de las catacterísticas</a></div><div class=\"lev2\"><a href=\"#Avaluación-del-ataque-sobre-Tor\"><span class=\"toc-item-num\">2.3&nbsp;&nbsp;</span>Avaluación del ataque sobre Tor</a></div><div class=\"lev2\"><a href=\"#Características-del-volumen-del-tráfico\"><span class=\"toc-item-num\">2.4&nbsp;&nbsp;</span>Características del volumen del tráfico</a></div><div class=\"lev2\"><a href=\"#Efectividad-del-ataque-por-página\"><span class=\"toc-item-num\">2.5&nbsp;&nbsp;</span>Efectividad del ataque por página</a></div><div class=\"lev2\"><a href=\"#Esquemas-de-padding\"><span class=\"toc-item-num\">2.6&nbsp;&nbsp;</span>Esquemas de <em>padding</em></a></div><div class=\"lev2\"><a href=\"#Medidas-de-overhead\"><span class=\"toc-item-num\">2.7&nbsp;&nbsp;</span>Medidas de overhead</a></div>"
   ]
  },
  {
   "cell_type": "markdown",
   "metadata": {},
   "source": [
    "<div style=\"width: 100%; clear: both;\">\n",
    "    <div style=\"float: left; width: 50%;\">\n",
    "       <img src=\"http://www.uoc.edu/portal/_resources/common/imatges/marca_UOC/UOC_Masterbrand.jpg\", align=\"left\">\n",
    "    </div>\n",
    "</div>\n",
    "\n",
    "<div style=\"float: right; width: 50%;\">\n",
    "    <p style=\"margin: 0; padding-top: 22px; text-align:right;\">M1.871 · Privacidad</p>\n",
    "    <p style=\"margin: 0; text-align:right;\">Máster Universitario en Ciberseguridad y Privacidad</p>\n",
    "    <p style=\"margin: 0; text-align:right; padding-button: 100px;\">Estudios de Informática, Multimedia y Telecomunicación</p>\n",
    "</div>\n",
    "\n",
    "</div>\n",
    "<div style=\"width: 100%; clear: both;\">\n",
    "<div style=\"width:100%;\">&nbsp;</div>"
   ]
  },
  {
   "cell_type": "markdown",
   "metadata": {},
   "source": [
    "# Práctica 2\n",
    "\n",
    "---\n",
    "\n",
    "Para resolver esta práctica, tenéis que poner las soluciones en el mismo notebook, en las celdas de código que están en blanco habilitadas para ello. Después de cada celda de código podéis poner una celda markdown en donde podéis justificar vuestra respuesta. No es obligatorio, pero sí muy recomendable que justifiquéis las respuestas que\n",
    "dais, ya que eso facilita la corrección en caso de una respuesta incorrecta (pudiendo valorar el planteamiento), y puede ayudar a descartar posibles sospechas sobre copias.\n",
    "\n",
    "En muchos casos, cuando se pide implementar una función, se proporciona el nombre de la función y los parámetros, indicado como ayuda el tipo de dichos parámetros y el tipo que retorna la función en forma de type hint. Es necesario\n",
    "que respetéis el nombre de la función y, en la medida de los posible, los tipos. Sin embargo podéis implementar el código de la función con total libertad. Podéis definir otras funciones y no respetar del todo los type hints si así lo consideráis oportuno. Dicha indicación sobre la definición de la función aparece comentada para evitar errores de compilación.\n",
    "\n",
    "Este notebook va acompañado de un cuestionario online con preguntas sobre los ejercicios y sobre temas relacionados. Este cuestionario debe ser contestado antes de la fecha de entrega de la práctica. Antes de contestar el cuestionario, tenéis que haber intentado hacer y entender todos los ejercicios.\n",
    "\n",
    "En la carpeta `data` de este repositorio encontraréis conjuntos de datos intermedios en caso de que os quedéis atascados. Estos datos también pueden ser útiles para contestar el cuestionario si no se ha podido acabar o no se ha sabido implementar todos los ejercicios de este notebook.\n",
    "\n",
    "\n",
    "Análisis del tráfico de la red\n",
    "-----------------------------------------------------\n",
    "\n",
    "---\n",
    "\n",
    "Hemos caputrado el tráfico de la red generado por una série de visitas a páginas web. Las páginas seleccionadas son 10 de las páginas más populares según el ranking de [Alexa](https://alexa.com). Cada página ha estado visitada 100 veces con Firefox y 100 veces con el navegador de Tor (una versión modificada de Firefox) a través de la red de Tor. Todas las visitas se hicieron el dia 04-05-2021.\n",
    "\n",
    "Las capturas del tráfico se han procesado para que solo incluyan aquellos paquetes de la red que sean relevantes (el tráfico TCP que ha generado el navegador) y descartar cualquier otro tráfico (p.e., tráfico generado por otras aplicaciones). Además, se han descartado retransmisiones y paquetes TCP vacíos (p.e., ACKs). Finalmente, de cada paquete, extraemos el tamaño de los datos y el _timestamp_ del instante en qué se envió o recibio. El contenido de los datos no es útil para hacer análisis del tráfico ya que está encriptado y suponemos que el atacante es un adversario local y pasivo que no puede desencriptar los datos.\n",
    "\n",
    "\n",
    "### Descripción de los datos\n",
    "\n",
    "Podéis descargar los datos utilizando el siguiente enlace:\n",
    "\n",
    "https://drive.google.com/drive/folders/10hb5Qf3trwX5FZOMFEVHgYaWQverHIng?usp=sharing\n",
    "\n",
    "Tenéis que descomprimir los contenidos de los archivos dentro de la carpeta `data` del repositorio. Los ficheros (una vez descomprimidos) son: `web_traffic.csv` y `tor_traffic.csv`, para el tráfico web y de Tor, respectivamente.\n",
    "\n",
    "Cada fila del fichero corresponde a un único paquete TCP. Las columnas son los siguientes atributos del tráfico:\n",
    "\n",
    "\n",
    " | Nombre | Descripción |\n",
    " | --- | --- |\n",
    " | `website` | El nombre de la página la visita de la cual ha generado el paquete. |\n",
    " | `instance` | El índice de la visita (del 0 al 99). |\n",
    " | `timestamp` | El instante en el que se ha visitado o enviado el paquete. |\n",
    " | `length` | El tamaño de los datos del paquete en bytes. El signo codifica la dirección del paquete: negativo para paquetes recibidos (\"_incoming_\") y positivo para paquetes enviados (\"_outgoing_\"). |\n",
    " \n",
    "Llamamos \"traza\" o \"captura\" a una secuencia de paquetes generados por una visita a una página. El atributo `instance` indexa las trazas de un website (hay 100 visitas por tanto obtenemos 100 trazas). Una traza se identifica de manera única con la tupla (`website`, `instance`) en el dataframe.\n",
    " \n",
    "La lista de las páginas visitadas es:\n",
    "\n",
    "  - bing.com\n",
    "  - wikipedia.org\n",
    "  - nytimes.com\n",
    "  - youtube.com\n",
    "  - amazon.com\n",
    "  - netflix.com\n",
    "  - reddit.com\n",
    "  - vk.com\n",
    "  - twitter.com\n",
    "  - panda.tv\n",
    "\n",
    "Antes de nada carguemos los conjuntos de datos en memoria:"
   ]
  },
  {
   "cell_type": "code",
   "execution_count": 1,
   "metadata": {},
   "outputs": [],
   "source": [
    "import numpy as np\n",
    "import pandas as pd\n",
    "\n",
    "import matplotlib.pyplot as plt\n",
    "\n",
    "\n",
    "# fix numpy's rng seed for reproducibility\n",
    "np.random.seed(0) \n",
    "\n",
    "\n",
    "# shortcut to get website labels from dataframe\n",
    "def labels(df):\n",
    "    return df.index.get_level_values('website')"
   ]
  },
  {
   "cell_type": "code",
   "execution_count": 2,
   "metadata": {},
   "outputs": [],
   "source": [
    "# load web data\n",
    "web = pd.read_csv('data/web_traffic.csv')\n",
    "tor = pd.read_csv('data/tor_traffic.csv')"
   ]
  },
  {
   "cell_type": "code",
   "execution_count": 3,
   "metadata": {},
   "outputs": [
    {
     "name": "stdout",
     "output_type": "stream",
     "text": [
      "<class 'pandas.core.frame.DataFrame'>\n",
      "RangeIndex: 3788997 entries, 0 to 3788996\n",
      "Data columns (total 4 columns):\n",
      " #   Column     Dtype  \n",
      "---  ------     -----  \n",
      " 0   website    object \n",
      " 1   instance   int64  \n",
      " 2   timestamp  float64\n",
      " 3   length     int64  \n",
      "dtypes: float64(1), int64(2), object(1)\n",
      "memory usage: 115.6+ MB\n"
     ]
    }
   ],
   "source": [
    "web.info()"
   ]
  },
  {
   "cell_type": "code",
   "execution_count": 4,
   "metadata": {},
   "outputs": [
    {
     "name": "stdout",
     "output_type": "stream",
     "text": [
      "<class 'pandas.core.frame.DataFrame'>\n",
      "RangeIndex: 4262621 entries, 0 to 4262620\n",
      "Data columns (total 4 columns):\n",
      " #   Column     Dtype  \n",
      "---  ------     -----  \n",
      " 0   website    object \n",
      " 1   instance   int64  \n",
      " 2   timestamp  float64\n",
      " 3   length     int64  \n",
      "dtypes: float64(1), int64(2), object(1)\n",
      "memory usage: 130.1+ MB\n"
     ]
    }
   ],
   "source": [
    "tor.info()"
   ]
  },
  {
   "cell_type": "markdown",
   "metadata": {},
   "source": [
    "# Ejercicios\n",
    "\n",
    "## _Website fingerprinting_\n",
    "\n",
    "Para empezar, implementaréis un ataque de _website fingerprinting_ muy sencillo. Como habréis leído en los materiales de la asignatura, un ataque de _website fingerprinting_ considera un adversario que observa el tráfico de la red en un punto intermedio entre el cliente y el servidor web (p.e., un router del proveedor de servicios de Internet). El el caso de Tor, el adversario se encuentra entre el cliente y el primer nodo de la red de Tor, tal com se muestra en la siguiente figura:\n",
    "\n",
    "<img src=\"https://www.ehacking.net/wp-content/uploads/2016/02/fingerprintingtor.jpg\" alt=\"Posició de l'adversari\" style=\"width: 500px;\"><center>Fig. 1. Posició de l'adversari en l'escenari de Tor.</center></img>\n",
    "\n",
    "La mayoría de los ataques de _website fingerprinting_ utilizan clasificadores automáticos para inferir la página que se ha visitado a partir del tráfico encriptado. Los clasificadores toman como *características*, las propiedades del tráfico que son más relevantes y, como *clases*, los nombres de dichas páginas. Por tanto, la aplicación de un ataque en la práctica sigue los siguientes pasos:\n",
    "\n",
    "1. El atacante recoge  datos a través de su navegador. El atacante utiliza el sistema que la víctima utiliza: p.e., si la víctima utiliza Tor, el adversario recoge los datos a través de Tor. Por tanto, los conjunto de datos que os damos corresponden a dos escenarios distintos donde se aplica el ataque.\n",
    "2. Extracción de un conjunto de características del tráfico que sean identificativas de las páginas. Una característica es identificativa si toma valores _diferentes_ para visitas a páginas distintas pero toma valores _parecidos_ para visitas a la misma página.\n",
    "3. Entrenamiento de un clasificador con el conjunto de características junto con las clases a las cuales pertenecen. Los valores de las clases en el conjunto de entrenamiento (es decir, lo nombres de las páginas) también se conocen como \"etiquetas\", ya que representa que el atacante las ha etiquetado en el punto 1.\n",
    "4.Aplicación del clasificador a una traza recogida de la víctima. Se extraen las características otra vez y se utiliza el clasificador para inferir la clase a la que pertenece. En esta práctica, este paso se relizará sobre un conjunto de datos que apartaremos con antelación (conjunto de evaluación) para medir la efectividad del ataque.\n",
    "\n",
    "Podéis encontrar más detalles sobre _website fingerprinting_ en los materiales de la asignatura.\n",
    "\n",
    "**Ejercicio 1** [5%]\n",
    "\n",
    "**a.** [4%] Extraed el siguiente conjunto de características *para cada traza* del conjunto de datos `web`:\n",
    "\n",
    " | Nombre | Descripción |\n",
    " | --- | --- |\n",
    " | `max_in_size` | El tamaño máximo de un paquete recibido. |\n",
    " | `min_in_size` | El tamaño mínimo de un paquete recibido. |\n",
    " | `max_out_size` | El tamaño máximo de un paquete enviado. |\n",
    " | `min_out_size` | El tamaño mínimo de un paquete enviado. |\n",
    " | `mean_in_size` | El tamaño medio de un paquete recibido. |\n",
    " | `mean_out_size` | El tamaño medio de un paquete enviado. |\n",
    "\n",
    "- Haced uso del método `agg` sobre el dataframe para aplicar los métodos de extracción de las características. Ved el siguiente ejemplo que extrae el tamaño máximo de una traza:\n",
    "\n",
    "```py\n",
    "# Group by trace\n",
    "groupby_trace = web.groupby(['website', 'instance'])\n",
    "\n",
    "# Define the feature methods. The syntax is: `\"<feature name>\": (\"<column name>\", <method>)`\n",
    "# That is, apply <method> on the column with name <column name> and name the result as <feature name>\n",
    "feature_methods = {\"max_size\": ('length', lambda x: x.max())}\n",
    "\n",
    "# Apply the methods to extract the features\n",
    "web_features = groupby_trace.agg(**feature_methods)\n",
    "    \n",
    "```\n",
    "\n",
    "De hecho, podríamos haber pasado el método `max` directamente:\n",
    "\n",
    "```py\n",
    "features_methods = {\"max_size\": ('length', max)}\n",
    "```"
   ]
  },
  {
   "cell_type": "code",
   "execution_count": 5,
   "metadata": {},
   "outputs": [],
   "source": [
    "# TODO: extract features from the data:\n",
    "gbt = web.groupby(['website','instance']) # Agrupamos por sitio e instancia\n",
    "# Valores negativos. Necesitamos valores absolutos\n",
    "fm1 = {\"max_in_size\": ('length', lambda x: abs(x[x<0].min()))} # Mínimo\n",
    "fm2 = {\"min_in_size\": ('length', lambda x: abs(x[x<0].max()))} # Máximo\n",
    "fm5 = {\"mean_in_size\": ('length', lambda x: abs(x[x<0].mean()))} # Media\n",
    "# Valores positivos\n",
    "fm3 = {\"max_out_size\": ('length', lambda x: x[x>0].max())} # Máximo\n",
    "fm4 = {\"min_out_size\": ('length', lambda x: x[x>0].min())} # Mínimo\n",
    "fm6 = {\"mean_out_size\": ('length', lambda x: x[x>0].mean())} # Media\n",
    "wf = gbt.agg(**fm1, **fm2, **fm3, **fm4, **fm5, **fm6)"
   ]
  },
  {
   "cell_type": "markdown",
   "metadata": {},
   "source": [
    "**b.** [1%] A continuación tendréis que entrenar un **árbol de decisión** con el conjunto de características que habéis obtenido.\n",
    "\n",
    "Utilizad el módulo de Python `sklearn`. La clase que necesitáis es [`DecisionTreeClassifier`](https://scikit-learn.org/stable/modules/generated/sklearn.tree.DecisionTreeClassifier.html). En la documentación de `sklearn` encontraréis muchos ejemplos de como entrenar y evaluar un modelo de clasificación. Para tener una visión global sobre el entrenamiento de modelos con `sklearn` podéis consultar el siguiente tutorial:\n",
    "\n",
    "https://scikit-learn.org/stable/tutorial/basic/tutorial.html\n",
    "\n",
    "Nosotros os recomendamos que hagáis uso del método [`cross_val_score`](https://scikit-learn.org/stable/modules/generated/sklearn.model_selection.cross_val_score.html) de `sklearn` el cual aplica [_k-fold cross-valiation_](https://scikit-learn.org/stable/modules/cross_validation.html). _k-fold cross-validation_ hace múltiples particiones de los conjuntos de datos para entrenar y evaluar el modelo en diferentes muestras de los datos. Por tanto, con _k-fold cross-validation_, se obtienen _mejores_ mediciones del rendimiento del clasificador en la práctica (y, por tanto, del ataque) que si utilizasemos un conjunto fijo de los datos. Los valores de los parámetros que debéis pasar a `cross_val_score` son: \n",
    "\n",
    " | Nombre | Descripción |\n",
    " | --- | --- |\n",
    " | `estimator` | La instancia del clasificador. |\n",
    " | `X` | El conjunto de características sin las etiquetas (nombres de las páginas). Cada fila de `X` corresponde a los valores de las características que hemos extraído de la traza, llamada `instancia` de entrenamiento en el contexto de clasificación.\n",
    " | `y`| El conjunto de etiquetas. La $i$-ésima fila de `y` es el nombre de la página que corresponde a la $i$-ésima instancia de `X`.\n",
    " | `cv` | El número de particiones. Es la $k$ en `k-fold`. Utilizaréis 5 particiones.|\n",
    " | `scoring` | La función para medir el rendimiento del clasificador.  Utilitzad `recall_macro`.|\n",
    " | `random_state`| La semilla del generador de números aleatorios. Fijad-lo a 0. | \n",
    " \n",
    "El [\"_recall_\"](https://en.wikipedia.org/wiki/Precision_and_recall) es la rátio  la ratio de positivos verdaderos y mide la probabilidad de acierto del ataque. Solo es necesario que mostréis la media de la lista de valores que devuelve el método de _cross-validation_.\n",
    " \n",
    "Sea cual sea el método que escogés, recordad fijar la semilla del generador de números aleatorios a `0` utilizando el parámetro `random_state` de los métodos que tienen aleatoriedad (p.e., cuando se instancia la clase `DecisionTreeClassifier`).\n",
    "\n",
    "Podéis utilizar el método `labels` definido en la primera celda de este notebook para extraer las etiquetas del dataframe con las características."
   ]
  },
  {
   "cell_type": "code",
   "execution_count": 6,
   "metadata": {},
   "outputs": [],
   "source": [
    "from sklearn import tree"
   ]
  },
  {
   "cell_type": "code",
   "execution_count": 7,
   "metadata": {},
   "outputs": [
    {
     "data": {
      "text/plain": [
       "0.7380000000000001"
      ]
     },
     "execution_count": 7,
     "metadata": {},
     "output_type": "execute_result"
    }
   ],
   "source": [
    "# TODO: train and test the decision tree with 5-fold cross-validation. Report the mean Recall:\n",
    "from sklearn.model_selection import cross_val_score\n",
    "dst1 = tree.DecisionTreeClassifier(max_depth = 5, random_state = 0)\n",
    "cross_val_score(dst1, wf, labels(wf), cv = 5, scoring = \"recall_macro\").mean()"
   ]
  },
  {
   "cell_type": "markdown",
   "metadata": {},
   "source": [
    "## Importancia de las características\n",
    "\n",
    "**Ejercicio 2** [5%]\n",
    "\n",
    "El entrenamiento de un árbol de decisión consiste en dividir el conjunto de datos de entrenamiento según los valores de sus características. Estas particiones se calculan maximizando una función que mide la calidad de una partición.\n",
    "\n",
    "Una ventaja de esto es que el orden de una característica en el árbol de decisión se puede interpretar como una medida de la `importancia` relativa de la característica para resolver el problema de clasificación. En nuestro caso: como de efectiva es la característica en distinguir una página a partir de su tráfico.\n",
    "\n",
    "En particular, la característica en el primer nivel del árbol es la característica que se ha utilizado para la primera partición de los datos y que, por tanto, _revela más información_ sobre las páginas.\n",
    "\n",
    "Una vez entrenado, para inferir la clase de una instancia del conjunto de evaluación, se sigue cada nodo del árbol según los valores de sus características hasta llegar a las hojas del árbol, las cuales indican la clase.\n",
    "\n",
    "Utilizad el método de `sklearn`: [`plot_tree`](https://scikit-learn.org/stable/modules/generated/sklearn.tree.plot_tree.html) para visualizar el árbol de decisión. Observad cuales han sido las características más importantes (en los primeros niveles del árbol).\n",
    "\n",
    "Para hacer caber la figura del árbol dentro de la celda, limitad el número de niveles del árbol a tres niveles. Para eso, instanciad un nuevo árbol de clasificación con `max_depth=3` y entrenadlo. Además, podéis modificar el parámetro `font_size` en `plot_tree` y del tamaño de la figura (`figsize`) para acabar de ajustar la figura a la celda."
   ]
  },
  {
   "cell_type": "code",
   "execution_count": 8,
   "metadata": {
    "scrolled": true
   },
   "outputs": [
    {
     "data": {
      "text/plain": [
       "[Text(708.2307692307693, 475.65000000000003, 'X[2] <= 1444.0\\ngini = 0.9\\nsamples = 1000\\nvalue = [100, 100, 100, 100, 100, 100, 100, 100, 100, 100]'),\n",
       " Text(377.723076923077, 339.75, 'X[0] <= 1454.0\\ngini = 0.858\\nsamples = 699\\nvalue = [1, 100, 98, 1, 100, 0, 99, 100, 100, 100]'),\n",
       " Text(188.8615384615385, 203.85000000000002, 'X[2] <= 1064.0\\ngini = 0.801\\nsamples = 486\\nvalue = [0, 2, 89, 0, 0, 0, 99, 98, 98, 100]'),\n",
       " Text(94.43076923076924, 67.94999999999999, 'gini = 0.761\\nsamples = 383\\nvalue = [0, 2, 89, 0, 0, 0, 92, 7, 98, 95]'),\n",
       " Text(283.29230769230776, 67.94999999999999, 'gini = 0.212\\nsamples = 103\\nvalue = [0, 0, 0, 0, 0, 0, 7, 91, 0, 5]'),\n",
       " Text(566.5846153846155, 203.85000000000002, 'X[1] <= 7.0\\ngini = 0.566\\nsamples = 213\\nvalue = [1, 98, 9, 1, 100, 0, 0, 2, 2, 0]'),\n",
       " Text(472.1538461538462, 67.94999999999999, 'gini = 0.057\\nsamples = 103\\nvalue = [0, 3, 0, 0, 100, 0, 0, 0, 0, 0]'),\n",
       " Text(661.0153846153847, 67.94999999999999, 'gini = 0.247\\nsamples = 110\\nvalue = [1, 95, 9, 1, 0, 0, 0, 2, 2, 0]'),\n",
       " Text(1038.7384615384617, 339.75, 'X[5] <= 299.509\\ngini = 0.673\\nsamples = 301\\nvalue = [99, 0, 2, 99, 0, 100, 1, 0, 0, 0]'),\n",
       " Text(944.3076923076924, 203.85000000000002, 'X[0] <= 1454.0\\ngini = 0.515\\nsamples = 202\\nvalue = [0, 0, 2, 99, 0, 100, 1, 0, 0, 0]'),\n",
       " Text(849.8769230769232, 67.94999999999999, 'gini = 0.074\\nsamples = 79\\nvalue = [0, 0, 2, 0, 0, 76, 1, 0, 0, 0]'),\n",
       " Text(1038.7384615384617, 67.94999999999999, 'gini = 0.314\\nsamples = 123\\nvalue = [0, 0, 0, 99, 0, 24, 0, 0, 0, 0]'),\n",
       " Text(1133.169230769231, 203.85000000000002, 'gini = 0.0\\nsamples = 99\\nvalue = [99, 0, 0, 0, 0, 0, 0, 0, 0, 0]')]"
      ]
     },
     "execution_count": 8,
     "metadata": {},
     "output_type": "execute_result"
    },
    {
     "data": {
      "image/png": "[encoded data removed]",
      "text/plain": [
       "<Figure size 1584x720 with 1 Axes>"
      ]
     },
     "metadata": {
      "needs_background": "light"
     },
     "output_type": "display_data"
    }
   ],
   "source": [
    "fig = plt.figure(figsize=(22, 10))\n",
    "# TODO: plot a tree with three levels:\n",
    "dst2 = tree.DecisionTreeClassifier(max_depth = 3, random_state = 0)\n",
    "cross_val_score(dst2, wf, labels(wf), cv = 5, scoring = \"recall_macro\").mean()\n",
    "dst2.fit(wf, labels(wf))\n",
    "tree.plot_tree(dst2)"
   ]
  },
  {
   "cell_type": "markdown",
   "metadata": {},
   "source": [
    "## Avaluación del ataque sobre Tor\n",
    "\n",
    "**Ejercicio 3** [10%]\n",
    "\n",
    "**a.** [3%] Extraed las características para los datos de Tor y utilizadlas para entrenar y evaluar un nuevo árbol de decisión:"
   ]
  },
  {
   "cell_type": "code",
   "execution_count": 9,
   "metadata": {},
   "outputs": [
    {
     "data": {
      "text/plain": [
       "[Text(167.4, 190.26, 'X[5] <= 1088.698\\ngini = 0.9\\nsamples = 1000\\nvalue = [100, 100, 100, 100, 100, 100, 100, 100, 100, 100]'),\n",
       " Text(83.7, 135.9, 'X[5] <= 980.827\\ngini = 0.877\\nsamples = 726\\nvalue = [24, 81, 94, 16, 100, 20, 98, 100, 100, 93]'),\n",
       " Text(41.85, 81.53999999999999, 'X[1] <= 5.0\\ngini = 0.755\\nsamples = 213\\nvalue = [9, 6, 12, 2, 77, 3, 19, 9, 66, 10]'),\n",
       " Text(20.925, 27.180000000000007, 'gini = 0.624\\nsamples = 85\\nvalue = [1, 1, 3, 2, 50, 0, 8, 6, 8, 6]'),\n",
       " Text(62.775000000000006, 27.180000000000007, 'gini = 0.73\\nsamples = 128\\nvalue = [8, 5, 9, 0, 27, 3, 11, 3, 58, 4]'),\n",
       " Text(125.55000000000001, 81.53999999999999, 'X[4] <= 1276.76\\ngini = 0.863\\nsamples = 513\\nvalue = [15, 75, 82, 14, 23, 17, 79, 91, 34, 83]'),\n",
       " Text(104.625, 27.180000000000007, 'gini = 0.585\\nsamples = 76\\nvalue = [2, 2, 2, 5, 0, 0, 7, 10, 1, 47]'),\n",
       " Text(146.475, 27.180000000000007, 'gini = 0.859\\nsamples = 437\\nvalue = [13, 73, 80, 9, 23, 17, 72, 81, 33, 36]'),\n",
       " Text(251.10000000000002, 135.9, 'X[3] <= 26.5\\ngini = 0.738\\nsamples = 274\\nvalue = [76, 19, 6, 84, 0, 80, 2, 0, 0, 7]'),\n",
       " Text(209.25, 81.53999999999999, 'X[4] <= 1292.073\\ngini = 0.635\\nsamples = 163\\nvalue = [20, 0, 2, 71, 0, 65, 1, 0, 0, 4]'),\n",
       " Text(188.32500000000002, 27.180000000000007, 'gini = 0.642\\nsamples = 133\\nvalue = [20, 0, 2, 41, 0, 65, 1, 0, 0, 4]'),\n",
       " Text(230.175, 27.180000000000007, 'gini = 0.0\\nsamples = 30\\nvalue = [0, 0, 0, 30, 0, 0, 0, 0, 0, 0]'),\n",
       " Text(292.95, 81.53999999999999, 'X[5] <= 1112.572\\ngini = 0.682\\nsamples = 111\\nvalue = [56, 19, 4, 13, 0, 15, 1, 0, 0, 3]'),\n",
       " Text(272.02500000000003, 27.180000000000007, 'gini = 0.715\\nsamples = 48\\nvalue = [17, 18, 4, 4, 0, 3, 1, 0, 0, 1]'),\n",
       " Text(313.875, 27.180000000000007, 'gini = 0.559\\nsamples = 63\\nvalue = [39, 1, 0, 9, 0, 12, 0, 0, 0, 2]')]"
      ]
     },
     "execution_count": 9,
     "metadata": {},
     "output_type": "execute_result"
    },
    {
     "data": {
      "image/png": "[encoded data removed]",
      "text/plain": [
       "<Figure size 432x288 with 1 Axes>"
      ]
     },
     "metadata": {
      "needs_background": "light"
     },
     "output_type": "display_data"
    }
   ],
   "source": [
    "# TODO: extract features from tor dataset:\n",
    "gbtt = tor.groupby(['website','instance'])\n",
    "fm1t = {\"max_in_size\": ('length', lambda x: abs(x[x<0].min()))} # Neg\n",
    "fm2t = {\"min_in_size\": ('length', lambda x: abs(x[x<0].max()))} # Neg\n",
    "fm3t = {\"max_out_size\": ('length', lambda x: x[x>0].max())} # Pos\n",
    "fm4t = {\"min_out_size\": ('length', lambda x: x[x>0].min())} # Pos\n",
    "fm5t = {\"mean_in_size\": ('length', lambda x: abs(x[x<0].mean()))} # Neg\n",
    "fm6t = {\"mean_out_size\": ('length', lambda x: x[x>0].mean())} # Pos\n",
    "wft = gbtt.agg(**fm1t, **fm2t, **fm3t, **fm4t, **fm5t, **fm6t)\n",
    "# TODO: train and test the decision tree with 5-fold cross-validation. Report the mean Recall:\n",
    "dstt = tree.DecisionTreeClassifier(max_depth = 3, random_state = 0)\n",
    "cross_val_score(dstt, wft, labels(wft), cv = 5, scoring = \"recall_macro\").mean()\n",
    "dstt.fit(wft, labels(wft))\n",
    "tree.plot_tree(dstt)"
   ]
  },
  {
   "cell_type": "markdown",
   "metadata": {},
   "source": [
    "**b.** [7%] A continuación, intentemos averiguar porque el ataque es menos efectivo contra Tor. Mostrad los histogramas del atributo `length`par ambos conjuntos de datos."
   ]
  },
  {
   "cell_type": "code",
   "execution_count": 10,
   "metadata": {},
   "outputs": [
    {
     "data": {
      "text/plain": [
       "array([[<matplotlib.axes._subplots.AxesSubplot object at 0x7fce556e21f0>]],\n",
       "      dtype=object)"
      ]
     },
     "execution_count": 10,
     "metadata": {},
     "output_type": "execute_result"
    },
    {
     "data": {
      "image/png": "[encoded data removed]",
      "text/plain": [
       "<Figure size 432x288 with 1 Axes>"
      ]
     },
     "metadata": {
      "needs_background": "light"
     },
     "output_type": "display_data"
    },
    {
     "data": {
      "image/png": "[encoded data removed]",
      "text/plain": [
       "<Figure size 432x288 with 1 Axes>"
      ]
     },
     "metadata": {
      "needs_background": "light"
     },
     "output_type": "display_data"
    }
   ],
   "source": [
    "# TODO: plot histograms for `tor` and `web` lengths.\n",
    "%matplotlib inline\n",
    "web.hist(column = 'length')\n",
    "tor.hist(column = 'length')"
   ]
  },
  {
   "cell_type": "markdown",
   "metadata": {},
   "source": [
    "## Características del volumen del tráfico\n",
    "\n",
    "**Ejercicio 4** [30%]\n",
    "\n",
    "**a.** [15%] Añadid las siguientes características al conjunto de características de los ejercicios anteriores. A continuación, repetid los pasos del ejercicio anterior: extraed las características y entrenad un árbol de decisión.\n",
    "\n",
    "Nuevas características:\n",
    "\n",
    " | Nombre | Descripción |\n",
    " | --- | --- |\n",
    " | `total_in_volume` | El volumen total del tráfico de entrada. Es decir, el número de bytes que se han recibido en total. |\n",
    " | `total_out_volume` | El volumen total del tráfico de salida. |\n",
    " | `packet_count` | El número total de paquetes. |\n",
    " | `load_time` | El tiempo que se ha tardado en cargar la página. |"
   ]
  },
  {
   "cell_type": "code",
   "execution_count": 11,
   "metadata": {
    "scrolled": true
   },
   "outputs": [],
   "source": [
    "# TODO: extract the union of old and new features from the web data:\n",
    "fm7 = {\"total_in_volume\": ('length', lambda x: abs(x[x<0].sum()))}\n",
    "fm8 = {\"total_out_volume\": ('length', lambda x: x[x>0].sum())}\n",
    "fm9 = {\"packet_count\": ('instance', lambda x: x.count())}\n",
    "fm10 = {\"load_time\": ('timestamp', lambda x: abs(x.max() - x.min()))}\n",
    "wfwn = gbt.agg(**fm1, **fm2, **fm3, **fm4, **fm5, **fm6, **fm7, **fm8, **fm9, **fm10)"
   ]
  },
  {
   "cell_type": "markdown",
   "metadata": {},
   "source": [
    "**b.** [5%] Aplicad el ataque de nuevo sobre el nuevo conjunto de características del tráfico:"
   ]
  },
  {
   "cell_type": "code",
   "execution_count": 12,
   "metadata": {},
   "outputs": [
    {
     "data": {
      "text/plain": [
       "0.493"
      ]
     },
     "execution_count": 12,
     "metadata": {},
     "output_type": "execute_result"
    }
   ],
   "source": [
    "# TODO: train and test the decision tree with 5-fold cross-validation. Report the mean Recall:\n",
    "dstwn = tree.DecisionTreeClassifier(max_depth = 3, random_state = 0)\n",
    "cross_val_score(dstwn, wfwn, labels(wfwn), cv = 5, scoring = \"recall_macro\").mean()"
   ]
  },
  {
   "cell_type": "markdown",
   "metadata": {},
   "source": [
    "**c.** [5%] Extraed las características de los datos de Tor y aplicad el ataque:"
   ]
  },
  {
   "cell_type": "code",
   "execution_count": 13,
   "metadata": {},
   "outputs": [
    {
     "data": {
      "text/plain": [
       "0.36900000000000005"
      ]
     },
     "execution_count": 13,
     "metadata": {},
     "output_type": "execute_result"
    }
   ],
   "source": [
    "# TODO: extract new features from the tor dataset:\n",
    "fm7t = {\"total_in_volume\": ('length', lambda x: abs(x[x<0].sum()))}\n",
    "fm8t = {\"total_out_volume\": ('length', lambda x: x[x>0].sum())}\n",
    "fm9t = {\"packet_count\": ('instance', lambda x: x.count())}\n",
    "fm10t = {\"load_time\": ('timestamp', lambda x: abs(x.max() - x.min()))}\n",
    "wftn = gbtt.agg(**fm1t, **fm2t, **fm3t, **fm4t, **fm5t, **fm6t, **fm7t, **fm8t, **fm9t, **fm10t)\n",
    "# TODO: train and test the decision tree with 5-fold cross-validation. Report the mean Recall:\n",
    "dsttn = tree.DecisionTreeClassifier(max_depth = 3, random_state = 0)\n",
    "cross_val_score(dsttn, wft, labels(wft), cv = 5, scoring = \"recall_macro\").mean()"
   ]
  },
  {
   "cell_type": "markdown",
   "metadata": {},
   "source": [
    "**d.** [5%] Mostrad la visualización del nuevo árbol de decisión para ver que característica es la más importante en los datos de Tor."
   ]
  },
  {
   "cell_type": "code",
   "execution_count": 14,
   "metadata": {},
   "outputs": [
    {
     "data": {
      "text/plain": [
       "[Text(613.8000000000001, 475.65000000000003, 'X[5] <= 1088.698\\ngini = 0.9\\nsamples = 1000\\nvalue = [100, 100, 100, 100, 100, 100, 100, 100, 100, 100]'),\n",
       " Text(306.90000000000003, 339.75, 'X[5] <= 980.827\\ngini = 0.877\\nsamples = 726\\nvalue = [24, 81, 94, 16, 100, 20, 98, 100, 100, 93]'),\n",
       " Text(153.45000000000002, 203.85000000000002, 'X[1] <= 5.0\\ngini = 0.755\\nsamples = 213\\nvalue = [9, 6, 12, 2, 77, 3, 19, 9, 66, 10]'),\n",
       " Text(76.72500000000001, 67.94999999999999, 'gini = 0.624\\nsamples = 85\\nvalue = [1, 1, 3, 2, 50, 0, 8, 6, 8, 6]'),\n",
       " Text(230.175, 67.94999999999999, 'gini = 0.73\\nsamples = 128\\nvalue = [8, 5, 9, 0, 27, 3, 11, 3, 58, 4]'),\n",
       " Text(460.35, 203.85000000000002, 'X[4] <= 1276.76\\ngini = 0.863\\nsamples = 513\\nvalue = [15, 75, 82, 14, 23, 17, 79, 91, 34, 83]'),\n",
       " Text(383.62500000000006, 67.94999999999999, 'gini = 0.585\\nsamples = 76\\nvalue = [2, 2, 2, 5, 0, 0, 7, 10, 1, 47]'),\n",
       " Text(537.075, 67.94999999999999, 'gini = 0.859\\nsamples = 437\\nvalue = [13, 73, 80, 9, 23, 17, 72, 81, 33, 36]'),\n",
       " Text(920.7, 339.75, 'X[3] <= 26.5\\ngini = 0.738\\nsamples = 274\\nvalue = [76, 19, 6, 84, 0, 80, 2, 0, 0, 7]'),\n",
       " Text(767.2500000000001, 203.85000000000002, 'X[4] <= 1292.073\\ngini = 0.635\\nsamples = 163\\nvalue = [20, 0, 2, 71, 0, 65, 1, 0, 0, 4]'),\n",
       " Text(690.5250000000001, 67.94999999999999, 'gini = 0.642\\nsamples = 133\\nvalue = [20, 0, 2, 41, 0, 65, 1, 0, 0, 4]'),\n",
       " Text(843.9750000000001, 67.94999999999999, 'gini = 0.0\\nsamples = 30\\nvalue = [0, 0, 0, 30, 0, 0, 0, 0, 0, 0]'),\n",
       " Text(1074.15, 203.85000000000002, 'X[5] <= 1112.572\\ngini = 0.682\\nsamples = 111\\nvalue = [56, 19, 4, 13, 0, 15, 1, 0, 0, 3]'),\n",
       " Text(997.4250000000001, 67.94999999999999, 'gini = 0.715\\nsamples = 48\\nvalue = [17, 18, 4, 4, 0, 3, 1, 0, 0, 1]'),\n",
       " Text(1150.8750000000002, 67.94999999999999, 'gini = 0.559\\nsamples = 63\\nvalue = [39, 1, 0, 9, 0, 12, 0, 0, 0, 2]')]"
      ]
     },
     "execution_count": 14,
     "metadata": {},
     "output_type": "execute_result"
    },
    {
     "data": {
      "image/png": "[encoded data removed]",
      "text/plain": [
       "<Figure size 1584x720 with 1 Axes>"
      ]
     },
     "metadata": {
      "needs_background": "light"
     },
     "output_type": "display_data"
    }
   ],
   "source": [
    "fig = plt.figure(figsize=(22, 10))\n",
    "\n",
    "# TODO: plot the tree:\n",
    "dsttn.fit(wft, labels(wft))\n",
    "tree.plot_tree(dsttn)"
   ]
  },
  {
   "cell_type": "markdown",
   "metadata": {},
   "source": [
    "## Efectividad del ataque por página\n",
    "\n",
    "**Ejercicio 5** [10%]\n",
    "\n",
    "La efectividad del ataque depende de la página. En este ejercicio debéis aplicar el ataque y mostrar la ratio de positivos verdaderos **por página**.\n",
    "\n",
    "No utilicéis el método `cross_val_score`. Ahora utilizad el método [`train_test_split`](https://scikit-learn.org/stable/modules/generated/sklearn.model_selection.train_test_split.html) de `sklearn` para dividir los datos entre un conjunto de entrenamiento y otro de evaluación. Entonces, llamad los métodos del clasificador [`fit`](https://scikit-learn.org/stable/modules/generated/sklearn.tree.DecisionTreeClassifier.html#sklearn.tree.DecisionTreeClassifier.fit) y [`predict`](https://scikit-learn.org/stable/modules/generated/sklearn.tree.DecisionTreeClassifier.html#sklearn.tree.DecisionTreeClassifier.predict) para entrenarlo y obtener las predicciones individuales sobre el conjunto de evaluación, respectivamente. Utilizad las predicciones del clasificador y las etiquetas reales de las instancias del conjunto de evaluación para llamar al método: [`classification_report`](https://scikit-learn.org/stable/modules/generated/sklearn.metrics.classification_report.html). Este método devuelve distintas medidas del rendimiento del clasificador (entre ellas el _recall_) por página.\n",
    "\n",
    "Llamad `train_test_split` con los siguientes parámetros:\n",
    "\n",
    "| Nombre | Descripción |\n",
    "| -- | -- |\n",
    "| `X`| Dataframe de les características. |\n",
    "| `train_size`| Ratio del conjunto de entrenamiento respecto al total. Usad 0.75. |\n",
    "| `stratify` | Nos asegura que hay el mismo número de instancias por página en los conjuntos de entrnamiento y de evaluación. Debéis pasar el conjunto de etiquetas que corresponde a `X`. |\n",
    "| `random_state`| Fijad-lo a 0. |\n",
    "\n",
    "Podéis usar el parámetro `output_dict` del método `classification_report` para obtener un diccionario que podéis convertir en un dataframe de la siguiente manera:\n",
    "\n",
    "```py\n",
    "report = classification_report(..., output_dict=True)\n",
    "report pd.DataFrame(report).transpose()\n",
    "display(report)\n",
    "```\n",
    "\n",
    "Las últimas tres filas del report son medidas agregadas que podéis descartar.\n",
    "\n",
    "Por último, calculad la desviación estándard del tiempo de carga de la página y añadidla al report. Utilizad el método del dataframe `sort_values` para ordenar el dataframe según el tiempo de carga y mostrad solo las columnas correspondientes al _recall_ y a la desviación estándard del tiempo de carga.\n",
    "\n",
    "Hacedlo solo para el conjunto de datos de Tor."
   ]
  },
  {
   "cell_type": "code",
   "execution_count": 15,
   "metadata": {},
   "outputs": [],
   "source": [
    "from sklearn.metrics import classification_report\n",
    "from sklearn.model_selection import train_test_split"
   ]
  },
  {
   "cell_type": "code",
   "execution_count": 16,
   "metadata": {
    "scrolled": false
   },
   "outputs": [
    {
     "data": {
      "text/html": [
       "<div>\n",
       "<style scoped>\n",
       "    .dataframe tbody tr th:only-of-type {\n",
       "        vertical-align: middle;\n",
       "    }\n",
       "\n",
       "    .dataframe tbody tr th {\n",
       "        vertical-align: top;\n",
       "    }\n",
       "\n",
       "    .dataframe thead th {\n",
       "        text-align: right;\n",
       "    }\n",
       "</style>\n",
       "<table border=\"1\" class=\"dataframe\">\n",
       "  <thead>\n",
       "    <tr style=\"text-align: right;\">\n",
       "      <th></th>\n",
       "      <th>precision</th>\n",
       "      <th>recall</th>\n",
       "      <th>f1-score</th>\n",
       "      <th>support</th>\n",
       "    </tr>\n",
       "  </thead>\n",
       "  <tbody>\n",
       "    <tr>\n",
       "      <th>amazon</th>\n",
       "      <td>0.000000</td>\n",
       "      <td>0.000</td>\n",
       "      <td>0.000000</td>\n",
       "      <td>100.000</td>\n",
       "    </tr>\n",
       "    <tr>\n",
       "      <th>bing</th>\n",
       "      <td>0.555556</td>\n",
       "      <td>1.000</td>\n",
       "      <td>0.714286</td>\n",
       "      <td>100.000</td>\n",
       "    </tr>\n",
       "    <tr>\n",
       "      <th>netflix</th>\n",
       "      <td>0.000000</td>\n",
       "      <td>0.000</td>\n",
       "      <td>0.000000</td>\n",
       "      <td>100.000</td>\n",
       "    </tr>\n",
       "    <tr>\n",
       "      <th>nytimes</th>\n",
       "      <td>0.697479</td>\n",
       "      <td>0.830</td>\n",
       "      <td>0.757991</td>\n",
       "      <td>100.000</td>\n",
       "    </tr>\n",
       "    <tr>\n",
       "      <th>panda</th>\n",
       "      <td>0.760870</td>\n",
       "      <td>0.700</td>\n",
       "      <td>0.729167</td>\n",
       "      <td>100.000</td>\n",
       "    </tr>\n",
       "    <tr>\n",
       "      <th>reddit</th>\n",
       "      <td>0.776316</td>\n",
       "      <td>0.590</td>\n",
       "      <td>0.670455</td>\n",
       "      <td>100.000</td>\n",
       "    </tr>\n",
       "    <tr>\n",
       "      <th>twitter</th>\n",
       "      <td>0.240695</td>\n",
       "      <td>0.970</td>\n",
       "      <td>0.385686</td>\n",
       "      <td>100.000</td>\n",
       "    </tr>\n",
       "    <tr>\n",
       "      <th>vk</th>\n",
       "      <td>0.000000</td>\n",
       "      <td>0.000</td>\n",
       "      <td>0.000000</td>\n",
       "      <td>100.000</td>\n",
       "    </tr>\n",
       "    <tr>\n",
       "      <th>wikipedia</th>\n",
       "      <td>0.661538</td>\n",
       "      <td>0.860</td>\n",
       "      <td>0.747826</td>\n",
       "      <td>100.000</td>\n",
       "    </tr>\n",
       "    <tr>\n",
       "      <th>youtube</th>\n",
       "      <td>0.000000</td>\n",
       "      <td>0.000</td>\n",
       "      <td>0.000000</td>\n",
       "      <td>100.000</td>\n",
       "    </tr>\n",
       "    <tr>\n",
       "      <th>accuracy</th>\n",
       "      <td>0.495000</td>\n",
       "      <td>0.495</td>\n",
       "      <td>0.495000</td>\n",
       "      <td>0.495</td>\n",
       "    </tr>\n",
       "    <tr>\n",
       "      <th>macro avg</th>\n",
       "      <td>0.369245</td>\n",
       "      <td>0.495</td>\n",
       "      <td>0.400541</td>\n",
       "      <td>1000.000</td>\n",
       "    </tr>\n",
       "    <tr>\n",
       "      <th>weighted avg</th>\n",
       "      <td>0.369245</td>\n",
       "      <td>0.495</td>\n",
       "      <td>0.400541</td>\n",
       "      <td>1000.000</td>\n",
       "    </tr>\n",
       "  </tbody>\n",
       "</table>\n",
       "</div>"
      ],
      "text/plain": [
       "              precision  recall  f1-score   support\n",
       "amazon         0.000000   0.000  0.000000   100.000\n",
       "bing           0.555556   1.000  0.714286   100.000\n",
       "netflix        0.000000   0.000  0.000000   100.000\n",
       "nytimes        0.697479   0.830  0.757991   100.000\n",
       "panda          0.760870   0.700  0.729167   100.000\n",
       "reddit         0.776316   0.590  0.670455   100.000\n",
       "twitter        0.240695   0.970  0.385686   100.000\n",
       "vk             0.000000   0.000  0.000000   100.000\n",
       "wikipedia      0.661538   0.860  0.747826   100.000\n",
       "youtube        0.000000   0.000  0.000000   100.000\n",
       "accuracy       0.495000   0.495  0.495000     0.495\n",
       "macro avg      0.369245   0.495  0.400541  1000.000\n",
       "weighted avg   0.369245   0.495  0.400541  1000.000"
      ]
     },
     "metadata": {},
     "output_type": "display_data"
    },
    {
     "data": {
      "text/html": [
       "<div>\n",
       "<style scoped>\n",
       "    .dataframe tbody tr th:only-of-type {\n",
       "        vertical-align: middle;\n",
       "    }\n",
       "\n",
       "    .dataframe tbody tr th {\n",
       "        vertical-align: top;\n",
       "    }\n",
       "\n",
       "    .dataframe thead th {\n",
       "        text-align: right;\n",
       "    }\n",
       "</style>\n",
       "<table border=\"1\" class=\"dataframe\">\n",
       "  <thead>\n",
       "    <tr style=\"text-align: right;\">\n",
       "      <th></th>\n",
       "      <th>recall</th>\n",
       "      <th>std(load_time)</th>\n",
       "    </tr>\n",
       "  </thead>\n",
       "  <tbody>\n",
       "    <tr>\n",
       "      <th>bing</th>\n",
       "      <td>1.000</td>\n",
       "      <td>2.779367</td>\n",
       "    </tr>\n",
       "    <tr>\n",
       "      <th>amazon</th>\n",
       "      <td>0.000</td>\n",
       "      <td>4.889737</td>\n",
       "    </tr>\n",
       "    <tr>\n",
       "      <th>twitter</th>\n",
       "      <td>0.970</td>\n",
       "      <td>5.168332</td>\n",
       "    </tr>\n",
       "    <tr>\n",
       "      <th>youtube</th>\n",
       "      <td>0.000</td>\n",
       "      <td>5.296512</td>\n",
       "    </tr>\n",
       "    <tr>\n",
       "      <th>vk</th>\n",
       "      <td>0.000</td>\n",
       "      <td>5.825427</td>\n",
       "    </tr>\n",
       "    <tr>\n",
       "      <th>wikipedia</th>\n",
       "      <td>0.860</td>\n",
       "      <td>6.471995</td>\n",
       "    </tr>\n",
       "    <tr>\n",
       "      <th>netflix</th>\n",
       "      <td>0.000</td>\n",
       "      <td>8.864859</td>\n",
       "    </tr>\n",
       "    <tr>\n",
       "      <th>panda</th>\n",
       "      <td>0.700</td>\n",
       "      <td>9.409968</td>\n",
       "    </tr>\n",
       "    <tr>\n",
       "      <th>reddit</th>\n",
       "      <td>0.590</td>\n",
       "      <td>11.145516</td>\n",
       "    </tr>\n",
       "    <tr>\n",
       "      <th>nytimes</th>\n",
       "      <td>0.830</td>\n",
       "      <td>14.911798</td>\n",
       "    </tr>\n",
       "    <tr>\n",
       "      <th>accuracy</th>\n",
       "      <td>0.495</td>\n",
       "      <td>NaN</td>\n",
       "    </tr>\n",
       "    <tr>\n",
       "      <th>macro avg</th>\n",
       "      <td>0.495</td>\n",
       "      <td>NaN</td>\n",
       "    </tr>\n",
       "    <tr>\n",
       "      <th>weighted avg</th>\n",
       "      <td>0.495</td>\n",
       "      <td>NaN</td>\n",
       "    </tr>\n",
       "  </tbody>\n",
       "</table>\n",
       "</div>"
      ],
      "text/plain": [
       "              recall  std(load_time)\n",
       "bing           1.000        2.779367\n",
       "amazon         0.000        4.889737\n",
       "twitter        0.970        5.168332\n",
       "youtube        0.000        5.296512\n",
       "vk             0.000        5.825427\n",
       "wikipedia      0.860        6.471995\n",
       "netflix        0.000        8.864859\n",
       "panda          0.700        9.409968\n",
       "reddit         0.590       11.145516\n",
       "nytimes        0.830       14.911798\n",
       "accuracy       0.495             NaN\n",
       "macro avg      0.495             NaN\n",
       "weighted avg   0.495             NaN"
      ]
     },
     "metadata": {},
     "output_type": "display_data"
    }
   ],
   "source": [
    "# TODO: obtain train and test splits\n",
    "wftn_train, wftn_test = train_test_split(wftn, train_size=0.75, stratify = labels(wftn), random_state = 0)\n",
    "# TODO: train classifier and predict classes for the test set\n",
    "wftn_train_t = tree.DecisionTreeClassifier(max_depth = 3, random_state = 0)\n",
    "wftn_train_t.fit(wftn_train, labels(wftn_train))\n",
    "wftn_test_t = tree.DecisionTreeClassifier(max_depth = 3, random_state = 0)\n",
    "wftn_test_t_p = wftn_test_t.fit(wftn_test, labels(wftn_test)).predict(wftn)\n",
    "# TODO: display report\n",
    "report = classification_report(labels(wftn), wftn_test_t_p, output_dict = True, zero_division = 0)\n",
    "report = pd.DataFrame(report).transpose()\n",
    "display(report)\n",
    "# TODO: add and show the load time's stdev next to recall\n",
    "wftn_n = wftn.groupby(['website'])\n",
    "fm12t = {\"std(load_time)\": ('load_time', lambda x: x.std())} # Calculo de la desviacion estandar\n",
    "wftn_std = wftn_n.agg(**fm12t)\n",
    "report['std(load_time)'] = wftn_std # Agregado de columna\n",
    "display(report[['recall', 'std(load_time)']].sort_values('std(load_time)')) # Ordenado y presentacion"
   ]
  },
  {
   "cell_type": "markdown",
   "metadata": {},
   "source": [
    "## Esquemas de _padding_\n",
    "\n",
    "**Ejercicio 6** [25%]\n",
    "\n",
    "En este ejercicio, debéis implementar y evaluar un esquema de _padding_ del tráfico. El _padding_ se simulará sobre los datos. Es decir, deberéis implementar un método que tome un dataframe y devuelva el dataframe con el _padding_. El esquema es el siguiente:\n",
    " \n",
    " - **_Padding_ al siguiente múltiple**: dado un parámetro $\\alpha$ que indica un número de paquetes fijo, añadimos paquetes a cada traza hasta alcanzar el siguiente múltiplo de $\\alpha$. Por ejemplo, si $\\alpha=200$ y hay 345 paquetes en la traza, debemos añadir 145 paquetes.\n",
    " \n",
    "Como resultado, el esquema crea conjuntos de anonimato respecto a la característica: página que tenían números de paquetes parecidos pasan a tener el mismo número de paquetes. Encontraréis más informació sobre las definiciones de conjunto de anonimato y _padding_ en los materiales de la asignatura.\n",
    "\n",
    "Para las simulaciones haremos las siguientes suposiciones:\n",
    "\n",
    " - Supondremos que también se añade _padding_ a nivel de paquete, de manera que ** todos los paquetes de la traza** acabaran teniendo el mismo tamaño: 1460 bytes.\n",
    " \n",
    " - Los nuevos paquetes que se añaden son paquetes recibidos.\n",
    " \n",
    " - Para simular los tiempos de los paquetes de _padding_, supondremos que los tiempos del _padding_ están distribuidos siguiendo una distribución [`beta`](https://docs.scipy.org/doc/scipy/reference/generated/scipy.stats.beta.html) con los parámetros estimados (con máxima verosimilitud) a partir de los datos:\n",
    "\n",
    "```py\n",
    "# MLE estimate from data\n",
    "delays = tor.timestamp.diff()\n",
    "params = beta.fit(delays.dropna())\n",
    "```\n",
    "\n",
    "Vosotros no tenéis que estimar los parámetros. Os proporcionamos los datos que debéis utilizar para los tiempos en la siguiente celda:"
   ]
  },
  {
   "cell_type": "code",
   "execution_count": 17,
   "metadata": {},
   "outputs": [],
   "source": [
    "from scipy.stats import beta\n",
    "PACKET_SIZE      = 1460\n",
    "TIMESTAMP_PARAMS = (0.6961851058342148, 172.0499069713989, 9.536743164062499e-07, 5.721616484081675)"
   ]
  },
  {
   "cell_type": "markdown",
   "metadata": {},
   "source": [
    "**a.** [15%] Implementad los métodos par añadir _padding_:"
   ]
  },
  {
   "cell_type": "code",
   "execution_count": 109,
   "metadata": {
    "scrolled": true
   },
   "outputs": [
    {
     "name": "stdout",
     "output_type": "stream",
     "text": [
      "Paquete falso: 0  bing  55  1.620084e+09  -1298\n",
      "Cantidad de paquetes falsos: 23159\n"
     ]
    }
   ],
   "source": [
    "# TODO: implement padding method:\n",
    "\n",
    "def get_padding_to(df: pd.DataFrame) -> int:\n",
    "    # Calculo del relleno del numero de paquetes\n",
    "    df_gb = df.groupby(['website', 'instance'])\n",
    "    pc = {\"packet_count\": ('instance', lambda x: x.count())}\n",
    "    df_a = df_gb.agg(**pc)\n",
    "    \n",
    "    return(df_a['packet_count'].max() + 1)\n",
    "\n",
    "def get_traces(df: pd.DataFrame) -> pd.DataFrame:\n",
    "    # Lista de trazas\n",
    "    df_traces = df[['website', 'instance']].drop_duplicates()\n",
    "    \n",
    "    return(df_traces)\n",
    "    \n",
    "    #for i, row in df.iterrows():\n",
    "    #    print(i, end='\\r')\n",
    "    #    trace = row[0] + \" \" + str(row[1])\n",
    "    #    if trace not in traces:\n",
    "    #        traces.append(trace)\n",
    "    print(len(traces))\n",
    "\n",
    "def next_multiple_padding(trace: pd.DataFrame, a: int) -> pd.DataFrame:\n",
    "    \"\"\"Return the padded trace.\"\"\"\n",
    "    # TODO\n",
    "        \n",
    "    sample_packet = trace.iloc[0]\n",
    "    fake_packet = pd.DataFrame(columns=[\"website\", \"instance\", \"timestamp\", \"length\"])\n",
    "    fake_packet = fake_packet.append(sample_packet, ignore_index = True)\n",
    "    print(\"Paquete falso: \", end = \"\")\n",
    "    print(fake_packet.to_string(header = False))\n",
    "    print(\"Cantidad de paquetes falsos: \", end = \"\")\n",
    "    print(a - 1000 % a)\n",
    "    fake_trace = pd.concat([fake_packet]*(a - 1000 % a), ignore_index = True)\n",
    "    \n",
    "    padded_trace_gb = trace.groupby(['website', 'instance'])\n",
    "    pc = {\"packet_count\": ('instance', lambda x: x.count())}\n",
    "    padded_trace_a = padded_trace_gb.agg(**pc)\n",
    "    \n",
    "    return(trace)\n",
    "    pass\n",
    "\n",
    "padded_tor = next_multiple_padding(tor, get_padding_to(tor))\n",
    "#display(get_traces(tor))\n",
    "#display(padded_tor)\n",
    "\n",
    "#tor_p_padded = tor.copy()\n",
    "#tor_p_padded.length = tor_p_padded.length.mask(tor_p_padded.length.lt(0), -PACKET_SIZE)\n",
    "#tor_p_padded.length = tor_p_padded.length.mask(tor_p_padded.length.gt(0), PACKET_SIZE)\n",
    "#tor_p_padded.to_csv('test.csv')\n",
    "#display(tor_p_padded)\n",
    "#tor_gb = tor.groupby(['website', 'instance'])\n",
    "#for key, item in tor_gb:\n",
    "#    print(tor_gb.get_group(key))"
   ]
  },
  {
   "cell_type": "code",
   "execution_count": null,
   "metadata": {},
   "outputs": [],
   "source": []
  },
  {
   "cell_type": "markdown",
   "metadata": {},
   "source": [
    "**b.** [5%] Aplicad el esquema de _padding_ donde $\\alpha$ es el número de paquetes máximo de todas las trazas de Tor **más 1**."
   ]
  },
  {
   "cell_type": "code",
   "execution_count": 19,
   "metadata": {
    "scrolled": false
   },
   "outputs": [],
   "source": [
    "# TODO: apply padding on Tor traces where `a`is the max num of packets + 1:\n",
    "# Hint: use the apply method on the tortrace groupby.\n"
   ]
  },
  {
   "cell_type": "markdown",
   "metadata": {},
   "source": [
    "**c.** [4%] Extraed las características y mostrad el dataframe resultante:"
   ]
  },
  {
   "cell_type": "code",
   "execution_count": 20,
   "metadata": {},
   "outputs": [],
   "source": [
    "#TODO: extract features and show dataframe:\n"
   ]
  },
  {
   "cell_type": "markdown",
   "metadata": {},
   "source": [
    "**d.** [1%] Entrenad y evaluad el árbol de decisión con las nuevas características:"
   ]
  },
  {
   "cell_type": "code",
   "execution_count": 21,
   "metadata": {},
   "outputs": [],
   "source": [
    "# TODO: train and test the decision tree classifier with the features from the padded data:\n"
   ]
  },
  {
   "cell_type": "markdown",
   "metadata": {},
   "source": [
    "## Medidas de _overhead_\n",
    "\n",
    "**Ejercicio 7** [15%]\n",
    "\n",
    "Si $X$ es el conjunto de los datos original, $X'$ el conjunt de datos con el _padding_, y $f$ una función que mide una propiedad de los datos (p.e., latencia, volumen). Entonces, definimos el [_overhead_](https://en.wikipedia.org/wiki/Overhead_(computing)) de la siguiente forma:\n",
    "\n",
    "$$\\mbox{Overhead(f, X, X')} = \\frac{f(X')}{f(X)}$$\n",
    "\n",
    "\n",
    "Por ejemplo, si $f$ mide el ancho de banda de la comunicación, la interpretación de _Overhead_(f, X, X') es _cuantas veces más_ ancho de banda se ha utilitzado el el escenario con el _padding_ respecto al escenario sin _padding_.\n",
    "\n",
    "\n",
    "**a.** [10%] Implementad métodos que miden el _overhead_ cuando $f$ mide:\n",
    "\n",
    " 1. El volumen de entrada de la comunicación en bytes.\n",
    " 2. La latencia (tiempo de carga de la página).\n",
    "\n",
    "**Recomendación**: Hacedlo suponiendo que los dataframes que reciben los métodos son los dataframes de las características y no los dataframes con el tráfico."
   ]
  },
  {
   "cell_type": "code",
   "execution_count": 22,
   "metadata": {},
   "outputs": [],
   "source": [
    "# TODO: implement overhead methods:\n",
    "\n",
    "def overhead_volume(original: pd.DataFrame, padded: pd.DataFrame) -> float:\n",
    "    \"\"\"Return of volume overhead of padded over original.\"\"\"\n",
    "    #TODO\n",
    "    pass\n",
    "\n",
    "\n",
    "def overhead_latency(original: pd.DataFrame, padded: pd.DataFrame) -> float:\n",
    "    \"\"\"Return letency overhead of padded over original.\"\"\"\n",
    "    #TODO\n",
    "    pass"
   ]
  },
  {
   "cell_type": "markdown",
   "metadata": {},
   "source": [
    "**b.** [5%] Calculad los _overheads_ para el esquema de _padding_ del ejercicio anterior."
   ]
  },
  {
   "cell_type": "code",
   "execution_count": 23,
   "metadata": {},
   "outputs": [],
   "source": [
    "# TODO: ompute overheads:\n"
   ]
  }
 ],
 "metadata": {
  "kernelspec": {
   "display_name": "Python 3",
   "language": "python",
   "name": "python3"
  },
  "language_info": {
   "codemirror_mode": {
    "name": "ipython",
    "version": 3
   },
   "file_extension": ".py",
   "mimetype": "text/x-python",
   "name": "python",
   "nbconvert_exporter": "python",
   "pygments_lexer": "ipython3",
   "version": "3.8.5"
  },
  "latex_envs": {
   "bibliofile": "biblio.bib",
   "cite_by": "apalike",
   "current_citInitial": 1,
   "eqLabelWithNumbers": true,
   "eqNumInitial": 0
  },
  "toc": {
   "toc_cell": true,
   "toc_number_sections": true,
   "toc_threshold": 6,
   "toc_window_display": false
  }
 },
 "nbformat": 4,
 "nbformat_minor": 4
}
