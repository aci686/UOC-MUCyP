{
 "cells": [
  {
   "cell_type": "markdown",
   "metadata": {
    "deletable": false,
    "editable": false
   },
   "source": [
    "<div style=\"width: 100%; clear: both;\">\n",
    "    <div style=\"float: left; width: 50%;\">\n",
    "       <img src=\"http://www.uoc.edu/portal/_resources/common/imatges/marca_UOC/UOC_Masterbrand.jpg\", align=\"left\">\n",
    "    </div>\n",
    "</div>\n",
    "\n",
    "<div style=\"float: right; width: 50%;\">\n",
    "    <p style=\"margin: 0; padding-top: 22px; text-align:right;\">M1.871 · Privacidad</p>\n",
    "    <p style=\"margin: 0; text-align:right;\">Máster Universitario en Ciberseguridad y Privacidad</p>\n",
    "    <p style=\"margin: 0; text-align:right; padding-button: 100px;\">Estudios de Informática, Multimedia y Telecomunicación</p>\n",
    "</div>\n",
    "\n",
    "</div>\n",
    "<div style=\"width: 100%; clear: both;\">\n",
    "<div style=\"width:100%;\">&nbsp;</div>"
   ]
  },
  {
   "cell_type": "markdown",
   "metadata": {
    "deletable": false,
    "editable": false,
    "pycharm": {
     "name": "#%% md\n"
    }
   },
   "source": [
    "# Práctica 1\n",
    "\n",
    "--- \n",
    "\n",
    "Para resolver esta práctica, tenéis que poner las soluciones en el mismo\n",
    "*notebook*, en las celdas de código que están en blanco habilitadas para ello.\n",
    "Después de cada celda de código podéis poner una celda *markdown* en donde\n",
    "podéis poner la justificación de la respuesta dada en la solución. No es\n",
    "obligatorio, pero sí muy recomendable que justifiquéis las respuestas que\n",
    "dais, ya que eso facilita la corrección en caso de una respuesta incorrecta\n",
    "(pudiendo valorar el planteamiento), y puede ayudar a descartar posibles\n",
    "sospechas sobre copias.\n",
    "\n",
    "En muchos casos, cuando se pide implementar una función, se proporciona el\n",
    "nombre de la función y los parámetros, indicado como ayuda el tipo de dichos\n",
    "parámetros y el tipo que retorna la función en forma de *type hint*. Es necesario\n",
    "que respetéis el nombre de la función y en la medida de los posibles los tipos.\n",
    "Sin embargo podéis implementar el código de la función con total libertad. Podéis\n",
    "definir otras funciones y no respetar del todo los *type hints* si así lo consideráis\n",
    "oportuno. Dicha indicación sobre la definición de la función aparece comentada\n",
    "para evitar errores de compilación.\n",
    "\n",
    "Este notebook va acompañado de un cuestionario online con preguntas sobre los\n",
    "ejercicios. Este cuestionario debe ser contestado antes de la fecha de entrega\n",
    "de la práctica. Se recomienda que afrontéis el cuestionario una vez finalizada\n",
    "la practica, habiendo realizado y entendido todos los ejercicios. En muchos\n",
    "casos se proporcionan datos o posibles resultados con el objeto de ayudar a\n",
    "poder contestar el cuestionario aunque no se haya acabado o no se haya sabido\n",
    "implementar todos los ejercicios de este *notebook*.\n",
    "\n",
    "\n",
    "\n",
    "## Publicación de microdatos\n",
    "\n",
    "Disponemos de datos sobre la actividad económica de diversas empresas de Taiwan.\n",
    "Los datos se utilizan para predecir la bancarrota de empresas y es un\n",
    "subconjunto obtenido del repositorio [UCI Machine Learning\n",
    "Repository](https://archive.ics.uci.edu/ml/datasets/Taiwanese+Bankruptcy+Prediction).\n",
    "\n",
    "Supondremos que los datos no han sido previamente anonimizados y procederemos\n",
    "a aplicar diversos métodos de protección con el objetivo de preservar la\n",
    "privacidad de las empresas que aparecen en el estudio. Hemos limitado el\n",
    "conjunto de datos a los siguientes atributos:\n",
    "- `' ROA(C) before interest and depreciation before interest'`\n",
    "- `' ROA(B) before interest and depreciation after tax'`\n",
    "- `' Operating Gross Margin'`\n",
    "- `' Research and development expense rate'`\n",
    "\n",
    "Todos ellos son de tipo numérico (real).\n",
    "\n",
    "Podemos leer el fichero CSV, que se encuentra en `data/company.csv`, como un\n",
    "`DataFrame` de *pandas* que podemos guardar en la variable `df_compay`. \n"
   ]
  },
  {
   "cell_type": "code",
   "execution_count": 2,
   "metadata": {
    "deletable": false,
    "editable": false,
    "pycharm": {
     "name": "#%%\n"
    },
    "scrolled": false
   },
   "outputs": [
    {
     "name": "stdout",
     "output_type": "stream",
     "text": [
      "<class 'pandas.core.frame.DataFrame'>\n",
      "RangeIndex: 6819 entries, 0 to 6818\n",
      "Data columns (total 4 columns):\n",
      " #   Column                                                    Non-Null Count  Dtype  \n",
      "---  ------                                                    --------------  -----  \n",
      " 0    ROA(C) before interest and depreciation before interest  6819 non-null   float64\n",
      " 1    ROA(B) before interest and depreciation after tax        6819 non-null   float64\n",
      " 2    Operating Gross Margin                                   6819 non-null   float64\n",
      " 3    Research and development expense rate                    6819 non-null   float64\n",
      "dtypes: float64(4)\n",
      "memory usage: 213.2 KB\n"
     ]
    }
   ],
   "source": [
    "from typing import Dict, List\n",
    "\n",
    "import numpy as np\n",
    "import pandas as pd\n",
    "import seaborn as sns\n",
    "\n",
    "df_company = pd.read_csv(\"data/company.csv\")\n",
    "df_company.info()"
   ]
  },
  {
   "cell_type": "markdown",
   "metadata": {},
   "source": [
    "## Anonimización con ruido\n",
    "\n",
    "Para poder empezar a trabajar con el conjunto de datos haremos una primera\n",
    "anonimización utilizando ruido aditivo de forma muy sencilla.\n",
    "\n",
    "**Ejercicio 1** [10%]\n",
    "\n",
    "Añadir ruido aditivo a cada una de las 4 variables utilizando una distribución normal\n",
    "$N(\\mu, \\sigma^2)$ con $\\mu = 0$ y como varianza tomaremos $\\sigma^2 = p \\sigma_o^2$\n",
    "donde $\\sigma_o^2$ es la varianza de la variable que queremos proteger.\n",
    "\n",
    "Desarrollad una función `noise_add_normal(df, p)` que recibe como parámetro `df` el\n",
    "DataFrame a anonimizar y el parámetro `p`, y retorna una copia del DataFrame protegido.\n",
    "Recordad que:\n",
    "- cada variable (columna) tendrá una distribución de ruido independiente.\n",
    "- la función no puede modificar el DataFrame original.\n",
    "\n",
    "Finalmente, generad un DataFrame `df_noise_a` como la version protegida de\n",
    "`df_company`, con el parámetro $p=0.1$.\n",
    "\n",
    "*Nota*: funciones que os pueden ser de utilidad:\n",
    "- `numpy.random.Generator.normal`"
   ]
  },
  {
   "cell_type": "code",
   "execution_count": 5,
   "metadata": {
    "scrolled": true
   },
   "outputs": [],
   "source": [
    "def noise_add_normal(df: pd.DataFrame, p: float) -> pd.DataFrame:\n",
    "    df_protected = df.copy()\n",
    "    for _ in df.columns:\n",
    "        df_protected[_] = df[_] + np.random.default_rng().normal(0.0, df[_].std() * np.sqrt(p), df[_].size)\n",
    "    return(df_protected)"
   ]
  },
  {
   "cell_type": "markdown",
   "metadata": {
    "pycharm": {
     "name": "#%% md\n"
    }
   },
   "source": [
    "**Justificación**: \n",
    "En este caso se hace un bucle que recorriendo toda la matriz y se le suma la desviación estándar multiplicada por la raíz de p. Mediante random.default_rng().normal se aleatoriza cada uno de los valores de distribución de ruido."
   ]
  },
  {
   "cell_type": "markdown",
   "metadata": {},
   "source": [
    "**Ejercicio 2** [10%]\n",
    "\n",
    "En este caso vamos a implementar ruido multiplicativo utilizando también una\n",
    "distribución normal. En este caso utilizamos una distribución normal \n",
    "$N(\\mu, \\sigma^2)$ donde $\\mu = 1$ y $\\sigma^2 = p \\sigma^2_o$ donde \n",
    "$\\sigma^2_o$ es la varianza de la variable original y $p$ un parámetro que \n",
    "determina la cantidad de ruido.\n",
    "\n",
    "Implementa una función `noise_mul_normal(df, p)` que recibe como parámetro\n",
    "`df` el DataFrame a anonimizar y el parámetro `p`, y retorna una copia del\n",
    "DataFrame protegido. Al igual que en el caso aditivo, recordad que:\n",
    "- cada variable (columna) tendrá una distribución de ruido independiente.\n",
    "- la función no puede modificar el DataFrame original.\n",
    "\n",
    "Finalmente, generad una version protegida de los datos con el parámetro\n",
    "$p=0.1$ y la guardadla en la variable `df_noise_m`.\n"
   ]
  },
  {
   "cell_type": "code",
   "execution_count": 6,
   "metadata": {
    "pycharm": {
     "name": "#%%\n"
    }
   },
   "outputs": [],
   "source": [
    "def noise_mul_normal(df: pd.DataFrame, p: float) -> pd.DataFrame:\n",
    "    df_protected = df.copy()\n",
    "    for _ in df.columns:\n",
    "        df_protected[_] = df[_] * np.random.default_rng().normal(0.0, df[_].std() * np.sqrt(p), df[_].size)\n",
    "    return(df_protected)\n",
    "        \n",
    "# En esta ocasión se aplica la misma mecánica del punto anterior, pero multiplicando.\n",
    "# El resto de valores provienen de los mismo cálculos que antes."
   ]
  },
  {
   "cell_type": "markdown",
   "metadata": {
    "pycharm": {
     "name": "#%% md\n"
    }
   },
   "source": [
    "## Medidas de pérdida de información\n",
    "\n",
    "**Ejercicio 3** [20%]\n",
    "\n",
    "En este ejercicio desarrollaremos diversas medidas de pérdida de información.\n",
    "Para ello vamos a utilizar la siguiente notación:\n",
    "- $X$: conjunto de datos original. Lo podemos interpretar como una matriz de\n",
    "tamaño $n \\times d$ donde $n$ es el número de registros (filas) y $d$ el\n",
    "número de variables (columnas).\n",
    "- $X'$: conjunto de datos protegido, también $n \\times d$.\n",
    "- $R$: matriz de correlación de los datos originales $X$. Esta matriz es una\n",
    "matriz $d \\times d$ donde el elemento $(i,j)$ es la correlación entre la\n",
    "variable $V_i$ y $V_j$. Como medida de correlación tomaremos el coeficiente de\n",
    "correlación de Pearson.\n",
    "- $R'$: matriz de correlación de los datos protegidos $X'$.\n",
    "\n",
    "En cada caso mediremos la media del error absoluto MAE (*mean absolute error*)\n",
    "y la media del error relativo MRE (*mean relative error*). Es decir:\n",
    "- Sobre $X$, $X'$:\n",
    "  - *MAE*: $\\frac{1}{nd}\\sum_{j=1}^d \\sum_{i=1}^n \\mid x_{ij} - x'_{ij} \\mid$\n",
    "  - *MRE*: $\\frac{1}{nd}\\sum_{j=1}^d \\sum_{i=1}^n \\frac{\\mid x_{ij} - x'_{ij} \\mid}{\\mid x_{ij}\\mid}$\n",
    "- Sobre $R$, $R'$:\n",
    "  - *MAE*: $\\frac{1}{d^2}\\sum_{j=1}^d \\sum_{i=1}^n \\mid r_{ij} - r'_{ij} \\mid$\n",
    "  - *MRE*: $\\frac{1}{d^2}\\sum_{j=1}^d \\sum_{i=1}^n \\frac{\\mid r_{ij} - r'_{ij} \\mid}{\\mid r_{ij}\\mid}$\n",
    "\n",
    "Se pide la implementación de la función\n",
    "`information_loss(df_original, df_protected)` donde `df_original` es el\n",
    "DataFrame con los datos originales ($X$) y `df_protected` el DataFrame con los\n",
    "datos protegidos ($X'$). La función tiene que retornar un diccionario de\n",
    "Python con los siguientes campos:\n",
    "- `'data-mae'`: valor del MAE sobre $X$ y $X'$\n",
    "- `'data-mre'`: valor del MRE sobre $X$ y $X'$\n",
    "- `'corr-mae'`: valor del MAE sobre $R$ y $R'$\n",
    "- `'corr-mre'`: valor del MRE sobre $R$ y $R'$\n",
    "\n",
    "Por ejemplo,\n",
    "\n",
    "```\n",
    "{\n",
    "  'data-mae': 52604277.58657338,\n",
    "  'data-mre': 0.003232,\n",
    "  'corr-mae': 0.0023844305276822485,\n",
    "  'corr-mre': 0.0201830985522146\n",
    "}\n",
    "```\n",
    "\n",
    "**Nota**: funciónes que os pueden ser útiles:\n",
    "- [pandas.DataFrame.corr](https://pandas.pydata.org/pandas-docs/stable/reference/api/pandas.DataFrame.corr.html)"
   ]
  },
  {
   "cell_type": "code",
   "execution_count": 7,
   "metadata": {
    "pycharm": {
     "name": "#%%\n"
    }
   },
   "outputs": [],
   "source": [
    "def information_loss(df_original: pd.DataFrame, df_protected: pd.DataFrame) -> Dict[str, float]:\n",
    "    info_loss = {}\n",
    "    info_loss['data-mae'] = (df_original - df_protected).abs().mean().mean()\n",
    "    info_loss['data-mre'] = (df_original - df_protected).abs().mean().mean()/df_original.abs().mean().mean()\n",
    "    info_loss['corr-mae'] = (df_original.corr() - df_protected.corr()).abs().mean().mean()\n",
    "    info_loss['corr-mre'] = (df_original.corr() - df_protected.corr()).abs().mean().mean()/df_original.abs().mean().mean()\n",
    "    return(info_loss)\n",
    "\n",
    "# Esta función devuelve un diccionario con los valores calculados de MAE, MRE, CORR-MAE y CORR-MRE.\n",
    "# Estos datos se calculan utilizando las definiciones de las funciones descritas.\n",
    "# Devuelve una medida de cuánta información se pierde desde el conjunto de datos original contra uno protegido\n",
    "# al que se le ha aplicado algún tipo de alteración."
   ]
  },
  {
   "cell_type": "markdown",
   "metadata": {
    "pycharm": {
     "name": "#%% md\n"
    }
   },
   "source": [
    "*Nota*:\n",
    "\n",
    "Para poder mostrar los resultados de pérdida de información estaría bien poder\n",
    "visualizar las medidas en un gráfico. Para ello os proponemos utilizar la\n",
    "librería `seaborn` (que podemos importar como `sns`). Por ejemplo, supongamos\n",
    "que medimos la pérdida de información al aplicar ruido aditivo con diferentes\n",
    "valores de `p`. En este caso, tendremos una lista de diccionarios de python\n",
    "con la pérdida de información para cada caso. Por ejemplo, de forma\n",
    "simplificada podemos tener la lista siguiente para los valores de `p` 1 y 2:\n",
    "\n",
    "```\n",
    "inf_loss_data = [\n",
    "  {\n",
    "    'p': 1,\n",
    "    'data-mae': 0.1,\n",
    "    'data-mre': 0.01,\n",
    "    'corr-mae': 0.2,\n",
    "    'corr-mre': 0.02\n",
    "  },\n",
    "  {\n",
    "    'p': 2,\n",
    "    'data-mae': 0.11,\n",
    "    'data-mre': 0.011,\n",
    "    'corr-mae': 0.22,\n",
    "    'corr-mre': 0.022\n",
    "  }\n",
    "]\n",
    "```\n",
    "Que pondríamos mostrar con la siguiente función"
   ]
  },
  {
   "cell_type": "code",
   "execution_count": 8,
   "metadata": {
    "pycharm": {
     "name": "#%%\n"
    }
   },
   "outputs": [],
   "source": [
    "def plot_information_loss(inf_loss_data: List[Dict[str,float]]):\n",
    "    df = pd.DataFrame(inf_loss_data)\n",
    "    melted = df.melt('p', var_name='cols', value_name='vals')\n",
    "    g = sns.relplot(data=melted, x='p', y='vals', kind='line', col='cols',\n",
    "                    col_wrap=2, facet_kws=dict(sharey=False))\n",
    "    return g"
   ]
  },
  {
   "cell_type": "markdown",
   "metadata": {},
   "source": [
    "**Ejercicio 4** [5%]\n",
    "\n",
    "Ahora podemos calcular la pérdida de información obtenida al aplicar ruido\n",
    "aditivo y multiplicativo anterior (recordamos que lo hemos aplicado en ambos\n",
    "casos con el parámetro $p=0.1$).\n",
    "\n",
    "- Muestra los valores de pérdida de información en cada caso para `df_noise_a`\n",
    "y `df_noise_m`.\n",
    "- Muestra de forma gráfica la pérdida de información al aplicar ruido aditivo\n",
    "a `df_company` con valores de $p$ entre $0.1$ y $1$ con un decimal. Es decir, para\n",
    "$p=[0.1, 0.2, 0.3, 0.4, 0.5, 0.6, 0.7, 0.8, 0.9, 1.0]$."
   ]
  },
  {
   "cell_type": "code",
   "execution_count": 10,
   "metadata": {
    "scrolled": true
   },
   "outputs": [
    {
     "name": "stdout",
     "output_type": "stream",
     "text": [
      "Additive noise with p = 0.1: {'p': 0.1, 'data-mae': 161846735.2676628, 'data-mre': 0.3319205686400398, 'corr-mae': 0.023968067163463537, 'corr-mre': 4.915449464545982e-11}\n",
      "Additive noise with p = 0.2: {'p': 0.2, 'data-mae': 233040349.2483539, 'data-mre': 0.4779267565123504, 'corr-mae': 0.04275330283124199, 'corr-mre': 8.767986925109752e-11}\n",
      "Additive noise with p = 0.3: {'p': 0.3, 'data-mae': 283847748.9717966, 'data-mre': 0.5821242306191781, 'corr-mae': 0.055530013955839064, 'corr-mre': 1.138827655579785e-10}\n",
      "Additive noise with p = 0.4: {'p': 0.4, 'data-mae': 328091613.91213596, 'data-mre': 0.6728609933073084, 'corr-mae': 0.07005327233768717, 'corr-mre': 1.4366753800109867e-10}\n",
      "Additive noise with p = 0.5: {'p': 0.5, 'data-mae': 370943471.8097585, 'data-mre': 0.7607429825061534, 'corr-mae': 0.07723141973511889, 'corr-mre': 1.5838871703506094e-10}\n",
      "Additive noise with p = 0.6: {'p': 0.6, 'data-mae': 402679196.25161946, 'data-mre': 0.8258276422957089, 'corr-mae': 0.08943429195167912, 'corr-mre': 1.8341476577471497e-10}\n",
      "Additive noise with p = 0.7: {'p': 0.7, 'data-mae': 433523959.61726856, 'data-mre': 0.8890850900221772, 'corr-mae': 0.0955944193429705, 'corr-mre': 1.9604815614388758e-10}\n",
      "Additive noise with p = 0.8: {'p': 0.8, 'data-mae': 465885773.7480438, 'data-mre': 0.9554537549862604, 'corr-mae': 0.10008638317183274, 'corr-mre': 2.0526042221722336e-10}\n",
      "Additive noise with p = 0.9: {'p': 0.9, 'data-mae': 486520178.6386069, 'data-mre': 0.9977714662054435, 'corr-mae': 0.10952622856086675, 'corr-mre': 2.2461996533201277e-10}\n",
      "Additive noise with p = 1.0: {'p': 1.0, 'data-mae': 525776937.6584795, 'data-mre': 1.0782805092534349, 'corr-mae': 0.11778787071172082, 'corr-mre': 2.415632107801025e-10}\n"
     ]
    },
    {
     "data": {
      "text/plain": [
       "<seaborn.axisgrid.FacetGrid at 0x7f2c749c8490>"
      ]
     },
     "execution_count": 10,
     "metadata": {},
     "output_type": "execute_result"
    },
    {
     "data": {
      "image/png": "[encoded data removed]",
      "text/plain": [
       "<Figure size 720x720 with 4 Axes>"
      ]
     },
     "metadata": {
      "needs_background": "light"
     },
     "output_type": "display_data"
    }
   ],
   "source": [
    "info_loss = []\n",
    "i_l = {}\n",
    "for _ in np.arange(0.1, 1.1, 0.1):\n",
    "    df_noise_a = noise_add_normal(df_company, _)\n",
    "    i_l['p'] = round(_, 1)\n",
    "    i_l.update(information_loss(df_company, df_noise_a))\n",
    "    print('Additive noise with p = {:.1f}: {}'.format(_, i_l))\n",
    "    info_loss.append(i_l.copy())\n",
    "plot_information_loss(info_loss)\n",
    "\n",
    "# En este caso se genera una lista de diccionarios que contienen las medidas de pérdida de información\n",
    "# tras aplicar ruido aditivo a un conjunto de datos, con diferentes valores de p en incrementos de 0.1."
   ]
  },
  {
   "cell_type": "markdown",
   "metadata": {
    "pycharm": {
     "name": "#%% md\n"
    }
   },
   "source": [
    "En el cuestionario encontraréis 2 preguntas relacionadas con estos resultados.\n",
    "El resultado obtenido (por si no habéis podido completar el ejercicio) podría\n",
    "ser algo parecido a:\n",
    "\n",
    "```\n",
    "Additive noise with p=0.1:\n",
    "  {'corr-mae': 0.0030944697605186115,\n",
    "   'corr-mre': 0.019953736292984206,\n",
    "   'data-mae': 52079729.06737299,\n",
    "   'data-mre': inf}\n",
    "Multiplicative noise with p=0.1:\n",
    "  {'corr-mae': 0.0023950396016735476,\n",
    "   'corr-mre': 0.02207930859592042,\n",
    "   'data-mae': 51756980.025623895,\n",
    "   'data-mre': inf}\n",
    "```"
   ]
  },
  {
   "cell_type": "markdown",
   "metadata": {
    "pycharm": {
     "name": "#%% md\n"
    }
   },
   "source": [
    "**Ejercicio 5** [10%]\n",
    "\n",
    "Para solventar el problema que tenemos en el cálculo del MRE, vamos a utilizar\n",
    "otra medida de error relativo. Concretamente utilizaremos un porcentaje sobre\n",
    "el error absoluto. Generalmente recibe el nombre de Symmetric Mean Absolute\n",
    "Percentage Error (SMAPE) y se puede calcular de diversas maneras. En nuestro\n",
    "caso utilizaremos la siguiente.\n",
    "\n",
    "Dadas dos matrices $X$ y $X'$ como las que hemos ido trabajando en estos\n",
    "ejercicios tenemos que:\n",
    "- *MRE-2*: $100 \\cdot \\frac{\\sum_{j=1}^p \\sum_{i=1}^n \\mid x_{ij} - x'_{ij} \\mid}{\\sum_{j=1}^p \\sum_{i=1}^n (x_{ij} + x'_{ij})}$\n",
    "\n",
    "Implementad una nueva función `information_loss_2` de manera análoga a la\n",
    "anterior pero que utilize esta nueva medida de MRE-2 tanto para el cálculo de\n",
    "`data-mre` como el de `corr-mre`.\n",
    "\n",
    "Con esta nueva función volved a calcular la pérdida de información obtenida\n",
    "al aplicar ruido aditivo y multiplicativo anterior:\n",
    "\n",
    "- Muestra los valores de pérdida de información en cada caso para `df_noise_a`\n",
    "y `df_noise_m`.\n",
    "\n",
    "- Muestra de forma gráfica la pérdida de información al aplicar ruido aditivo\n",
    "a `df_company` con valores de $p$ entre $0.1$ y $1$ con un decimal. Es decir, para\n",
    "$p=[0.1, 0.2, 0.3, 0.4, 0.5, 0.6, 0.7, 0.8, 0.9, 1.0]$."
   ]
  },
  {
   "cell_type": "code",
   "execution_count": 11,
   "metadata": {
    "pycharm": {
     "name": "#%%\n"
    }
   },
   "outputs": [
    {
     "name": "stdout",
     "output_type": "stream",
     "text": [
      "Additive noise with p=0.1: {'p': 0.1, 'data-mae': 163541828.08213347, 'data-mre': 16.793346184492737, 'corr-mae': 0.02524887791313142, 'corr-mre': 2.592689298741738e-09}\n",
      "Additive noise with p=0.2: {'p': 0.2, 'data-mae': 235064897.37154654, 'data-mre': 23.967516878155482, 'corr-mae': 0.04401162720441864, 'corr-mre': 4.487481668475929e-09}\n",
      "Additive noise with p=0.3: {'p': 0.3, 'data-mae': 285334772.7525794, 'data-mre': 29.16447143942909, 'corr-mae': 0.05911748312173234, 'corr-mre': 6.042481718727385e-09}\n",
      "Additive noise with p=0.4: {'p': 0.4, 'data-mae': 326272932.1493053, 'data-mre': 33.426110834620935, 'corr-mae': 0.06822856731552669, 'corr-mre': 6.989901485706334e-09}\n",
      "Additive noise with p=0.5: {'p': 0.5, 'data-mae': 365845997.8571866, 'data-mre': 37.38146001577377, 'corr-mae': 0.07901448014449515, 'corr-mre': 8.073551842821052e-09}\n",
      "Additive noise with p=0.6: {'p': 0.6, 'data-mae': 400373141.382723, 'data-mre': 40.88316325695075, 'corr-mae': 0.08829114749856404, 'corr-mre': 9.015643219375745e-09}\n",
      "Additive noise with p=0.7: {'p': 0.7, 'data-mae': 435879514.9136226, 'data-mre': 44.39612956042642, 'corr-mae': 0.0986682812788899, 'corr-mre': 1.0049772125745036e-08}\n",
      "Additive noise with p=0.8: {'p': 0.8, 'data-mae': 462259263.217965, 'data-mre': 47.0193784901469, 'corr-mae': 0.10204679497015305, 'corr-mre': 1.037983932005188e-08}\n",
      "Additive noise with p=0.9: {'p': 0.9, 'data-mae': 497693391.5739058, 'data-mre': 50.49071417755019, 'corr-mae': 0.11137780577071063, 'corr-mre': 1.1299215645817094e-08}\n",
      "Additive noise with p=1.0: {'p': 1.0, 'data-mae': 516037949.4936724, 'data-mre': 53.54771242705404, 'corr-mae': 0.11593824821155735, 'corr-mre': 1.203056476877387e-08}\n"
     ]
    },
    {
     "data": {
      "text/plain": [
       "<seaborn.axisgrid.FacetGrid at 0x7f2c3fe42940>"
      ]
     },
     "execution_count": 11,
     "metadata": {},
     "output_type": "execute_result"
    },
    {
     "data": {
      "image/png": "[encoded data removed]",
      "text/plain": [
       "<Figure size 720x720 with 4 Axes>"
      ]
     },
     "metadata": {
      "needs_background": "light"
     },
     "output_type": "display_data"
    }
   ],
   "source": [
    "def information_loss_2(df_original: pd.DataFrame, df_protected: pd.DataFrame) -> Dict[str, float]:\n",
    "    info_loss = {}\n",
    "    info_loss['data-mae'] = (df_original - df_protected).abs().mean().mean()\n",
    "    info_loss['data-mre'] = 100*((df_original - df_protected).abs().mean().sum()/(df_original + df_protected).mean().sum())\n",
    "    info_loss['corr-mae'] = (df_original.corr() - df_protected.corr()).abs().mean().mean()\n",
    "    info_loss['corr-mre'] = 100*((df_original.corr() - df_protected.corr()).abs().mean().sum()/(df_original + df_protected).mean().sum())\n",
    "    return(info_loss)\n",
    "info_loss_2 = []\n",
    "i_l_2 = {}\n",
    "for _ in np.arange(0.1, 1.1, 0.1):\n",
    "    df_noise_a = noise_add_normal(df_company, _)\n",
    "    i_l_2['p'] = round(_, 1)\n",
    "    i_l_2.update(information_loss_2(df_company, df_noise_a))\n",
    "    print('Additive noise with p={:.1f}: {}'.format(_, i_l_2))\n",
    "    info_loss_2.append(i_l_2.copy())\n",
    "plot_information_loss(info_loss_2)\n",
    "\n",
    "# En este caso se modifica la función del cálculo de pérdida de información para que utilice el error absoluto\n",
    "# en forma de porcentaje.\n",
    "# El resto de la función, así como el bucle que genera la información para cada valor de p siguen la\n",
    "# misma lógica que en el caso anterior."
   ]
  },
  {
   "cell_type": "markdown",
   "metadata": {
    "pycharm": {
     "name": "#%% md\n"
    }
   },
   "source": [
    "**Ejercicio 6** [20%]\n",
    "\n",
    "Vamos ahora a considerar posibles niveles de ruido para garantizar una pérdida\n",
    "de información máxima.\n",
    "\n",
    "El parámetro $p$ puede tomar valores a partir de $0$ y siempre se expresará\n",
    "con un solo decimal. Es decir, podemos tener valores como $0.3$ o $1.2$ pero\n",
    "no $0.31$ o $1.023$.\n",
    "\n",
    "- ¿Que valores de $p$ podemos utilizar si queremos garantizar que `data-mae`\n",
    "sea menor que $700000000.0$ ($7.0e+08$) con ruido aditivo?\n",
    "- ¿Y con ruido multiplicativo?\n"
   ]
  },
  {
   "cell_type": "code",
   "execution_count": 13,
   "metadata": {
    "pycharm": {
     "name": "#%%\n"
    },
    "scrolled": true
   },
   "outputs": [
    {
     "name": "stdout",
     "output_type": "stream",
     "text": [
      "Additive\n",
      "0\tp:0.1\t{'data-mae': 165082881.3250297, 'data-mre': 16.92628875206668, 'corr-mae': 0.02331172956612458, 'corr-mre': 2.390199775889717e-09}\n",
      "1\tp:0.2\t{'data-mae': 233249644.87368757, 'data-mre': 23.947674158229727, 'corr-mae': 0.03645599676965538, 'corr-mre': 3.742926735112333e-09}\n",
      "2\tp:0.3\t{'data-mae': 282857038.959359, 'data-mre': 29.168630118862293, 'corr-mae': 0.05533444120765204, 'corr-mre': 5.7061682267409945e-09}\n",
      "3\tp:0.4\t{'data-mae': 326554163.19816273, 'data-mre': 33.317011040035574, 'corr-mae': 0.06517109150653906, 'corr-mre': 6.649144980879996e-09}\n",
      "4\tp:0.5\t{'data-mae': 367552121.84503585, 'data-mre': 37.6558999360802, 'corr-mae': 0.07684356190787717, 'corr-mre': 7.872661606222443e-09}\n",
      "5\tp:0.6\t{'data-mae': 408536939.64496195, 'data-mre': 42.113305505613496, 'corr-mae': 0.0894935242919136, 'corr-mre': 9.225281152188407e-09}\n",
      "6\tp:0.7\t{'data-mae': 434826689.779268, 'data-mre': 44.351210952762735, 'corr-mae': 0.0945698652125728, 'corr-mre': 9.645884533781284e-09}\n",
      "7\tp:0.8\t{'data-mae': 463043875.8614031, 'data-mre': 47.45131040229686, 'corr-mae': 0.10119521166339654, 'corr-mre': 1.0370173649166747e-08}\n",
      "8\tp:0.9\t{'data-mae': 490339920.09294236, 'data-mre': 49.93400817958668, 'corr-mae': 0.11906651430076885, 'corr-mre': 1.2125197348571011e-08}\n",
      "9\tp:1.0\t{'data-mae': 521115764.97822326, 'data-mre': 54.07196608160307, 'corr-mae': 0.11466041833161512, 'corr-mre': 1.1897383782255367e-08}\n",
      "10\tp:1.1\t{'data-mae': 545764794.6609665, 'data-mre': 56.392317092672215, 'corr-mae': 0.12389103729314062, 'corr-mre': 1.2801306951861811e-08}\n",
      "11\tp:1.2\t{'data-mae': 564723147.5184575, 'data-mre': 58.23444108851681, 'corr-mae': 0.12811925546793201, 'corr-mre': 1.3211700755737246e-08}\n",
      "12\tp:1.3\t{'data-mae': 589528100.5489383, 'data-mre': 59.33751415948354, 'corr-mae': 0.13542861344907872, 'corr-mre': 1.3631237019323124e-08}\n",
      "13\tp:1.4\t{'data-mae': 610528229.3600279, 'data-mre': 62.55923416496357, 'corr-mae': 0.1410107706156747, 'corr-mre': 1.4449005622516289e-08}\n",
      "14\tp:1.5\t{'data-mae': 631139047.3289257, 'data-mre': 64.40375526558628, 'corr-mae': 0.1406896450374024, 'corr-mre': 1.4356490072573262e-08}\n",
      "15\tp:1.6\t{'data-mae': 644728531.5728078, 'data-mre': 66.76159431495655, 'corr-mae': 0.14552981846791765, 'corr-mre': 1.506960251562437e-08}\n",
      "16\tp:1.7\t{'data-mae': 685584532.5798053, 'data-mre': 69.5822657607237, 'corr-mae': 0.14598609514024163, 'corr-mre': 1.4816616750664723e-08}\n",
      "17\tp:1.8\t{'data-mae': 699385253.8642609, 'data-mre': 70.91795872464466, 'corr-mae': 0.15196319158991858, 'corr-mre': 1.5409131504123386e-08}\n",
      "18\tp:1.9\t{'data-mae': 712563349.8179171, 'data-mre': 72.10756841632121, 'corr-mae': 0.1583207397511542, 'corr-mre': 1.602120509881139e-08}\n",
      "\n",
      "Multiplicative\n",
      "0\tp:0.1\t{'data-mae': 3.21251486666229e+17, 'data-mre': 5004.946840065777, 'corr-mae': 0.23974148645340185, 'corr-mre': 3.735059431193482e-15}\n"
     ]
    }
   ],
   "source": [
    "print('Additive')\n",
    "p = 0.1\n",
    "i = data_mae = 0\n",
    "while data_mae<7.0e+08:\n",
    "    df_noise_temp = noise_add_normal(df_company, p)\n",
    "    i_l_temp = information_loss_2(df_company, df_noise_temp)\n",
    "    print('{}\\tp:{:.1f}\\t{}'.format(i, p, i_l_temp))\n",
    "    p += 0.1\n",
    "    i += 1\n",
    "    data_mae = i_l_temp['data-mae']\n",
    "    \n",
    "print('\\nMultiplicative')\n",
    "p = 0.1\n",
    "i = data_mae = 0\n",
    "while data_mae<7.0e+08:\n",
    "    df_noise_temp = noise_mul_normal(df_company, p)\n",
    "    i_l_temp = information_loss_2(df_company, df_noise_temp)\n",
    "    print('{}\\tp:{:.1f}\\t{}'.format(i, p, i_l_temp))\n",
    "    p += 0.1\n",
    "    i += 1\n",
    "    data_mae = i_l_temp['data-mae']\n",
    "    \n",
    "# Se incluyen las iteraciones necesarias para matener un umbral determinado de pérdida de información.\n",
    "# En las diferentes ejecuciones, en el caso aditivo, p se ha mantenido entre 1.7 y 1.9, mientras que para\n",
    "# el caso multiplicativo nunca se puede mantener un umbral inferior al dado en el enunciado. EL primer valor\n",
    "# de p ya dispara el resultado."
   ]
  },
  {
   "cell_type": "markdown",
   "metadata": {
    "pycharm": {
     "name": "#%% md\n"
    }
   },
   "source": [
    "*Nota*:\n",
    "\n",
    "En el cuestionario encontraréis preguntas relacionadas con este resultado. Por\n",
    "si no lo habéis podido generar un posible resultado seria:\n",
    "\n",
    "|     p |     data-mae |   data-mre | corr-mae |  corr-mre |\n",
    "| --- | --- | --- | --- | --- |\n",
    "|   0.1 | 5.205909e+07 |   5.339471 | 0.002720 |  0.283282 |\n",
    "|   0.2 | 1.039057e+08 |  10.671081 | 0.009523 |  1.000067 |\n",
    "|   0.3 | 1.562156e+08 |  16.076136 | 0.018658 |  1.976143 |\n",
    "|   0.4 | 2.057630e+08 |  21.055811 | 0.032570 |  3.505345 |\n",
    "|   0.5 | 2.581114e+08 |  26.445396 | 0.048507 |  5.311586 |\n",
    "|   0.6 | 3.142680e+08 |  32.599095 | 0.060780 |  6.726185 |\n",
    "|   0.7 | 3.626483e+08 |  37.317642 | 0.078781 |  8.891282 |\n",
    "| ... | ... | ... | ... | ... |"
   ]
  },
  {
   "cell_type": "markdown",
   "metadata": {
    "pycharm": {
     "name": "#%% md\n"
    }
   },
   "source": [
    "## Ruido correlacionado\n",
    "\n",
    "**Ejercicio 7** [25%]\n",
    "\n",
    "Ahora implementaremos una version del ruido aditivo pero en este caso utilizaremos\n",
    "ruido correlacionado. Es decir, el ruido añadido no será independiente para cada\n",
    "variable.\n",
    "\n",
    "Para ello utilizaremos el método indicado en el módulo\n",
    "*Introducción a la privacidad en la publicación de datos*\n",
    "de los materiales de la asignatura, donde se genera\n",
    "ruido con una distribución normal multivariable utilizando la matriz de\n",
    "covarianza de los datos originales.\n",
    "\n",
    "Implementad una función `noise_add_normal_corr` que recibe como parámetro el\n",
    "DataFrame a anonimizar y el parámetro $p$ y retorna el resultado como una\n",
    "nueva copia del DataFrame.\n",
    "\n",
    "Una vez implementada, determina que valores de $p$ se pueden utilizar si\n",
    "queremos que `data-mae` sea menor que $700000000.0$ ($7.0e+08$).\n",
    "\n",
    "*Nota*: funciónes que os puede ser de utilidad:\n",
    "- `numpy.random.Generator.multivariate_normal`\n",
    "- `pandas.DataFrame.cov`"
   ]
  },
  {
   "cell_type": "code",
   "execution_count": 26,
   "metadata": {
    "pycharm": {
     "name": "#%%\n"
    },
    "scrolled": false
   },
   "outputs": [
    {
     "name": "stderr",
     "output_type": "stream",
     "text": [
      "<ipython-input-26-8dfc06bcddfa>:3: RuntimeWarning: covariance is not positive-semidefinite.\n",
      "  df_protected = df_protected + np.random.default_rng().multivariate_normal([0.0, 0.0, 0.0, 0.0], df_protected.cov() * p, df_protected.shape[0])\n"
     ]
    },
    {
     "name": "stdout",
     "output_type": "stream",
     "text": [
      "0\tp:0.1\t{'data-mae': 165684823.50341457, 'data-mre': 17.00734027028325, 'corr-mae': 0.0013288952677078059, 'corr-mre': 1.3640944006564385e-10}\n",
      "1\tp:0.2\t{'data-mae': 229536951.40705916, 'data-mre': 23.49294542689005, 'corr-mae': 0.001933158493155114, 'corr-mre': 1.978574112047102e-10}\n",
      "2\tp:0.3\t{'data-mae': 284027300.1740849, 'data-mre': 29.168411082029383, 'corr-mae': 0.006037484211533203, 'corr-mre': 6.2002427680482e-10}\n",
      "3\tp:0.4\t{'data-mae': 327561371.06868804, 'data-mre': 33.49113472617885, 'corr-mae': 0.0031656479068145147, 'corr-mre': 3.236680204288767e-10}\n",
      "4\tp:0.5\t{'data-mae': 363816847.1429769, 'data-mre': 37.40499732431374, 'corr-mae': 0.004499467844837866, 'corr-mre': 4.626024990834321e-10}\n",
      "5\tp:0.6\t{'data-mae': 401143000.157069, 'data-mre': 40.98561167850509, 'corr-mae': 0.005942824263146469, 'corr-mre': 6.071906712258432e-10}\n",
      "6\tp:0.7\t{'data-mae': 432986900.21760076, 'data-mre': 44.38321894393687, 'corr-mae': 0.002824298460738981, 'corr-mre': 2.8950404015226745e-10}\n",
      "7\tp:0.8\t{'data-mae': 461869548.45997643, 'data-mre': 47.07852874320403, 'corr-mae': 0.007064614154831617, 'corr-mre': 7.200986548189964e-10}\n",
      "8\tp:0.9\t{'data-mae': 497406239.74016887, 'data-mre': 50.95575350126575, 'corr-mae': 0.008442798108537762, 'corr-mre': 8.64904990947303e-10}\n",
      "9\tp:1.0\t{'data-mae': 511993025.60782605, 'data-mre': 52.29963155386195, 'corr-mae': 0.005490488225558806, 'corr-mre': 5.608484820797013e-10}\n",
      "10\tp:1.1\t{'data-mae': 542471275.2028276, 'data-mre': 56.25919385260975, 'corr-mae': 0.007970187853754748, 'corr-mre': 8.265808052941616e-10}\n",
      "11\tp:1.2\t{'data-mae': 570681366.5844036, 'data-mre': 58.49231821067543, 'corr-mae': 0.0077077297198339875, 'corr-mre': 7.900082355111032e-10}\n",
      "12\tp:1.3\t{'data-mae': 588273470.1629863, 'data-mre': 60.729830503913185, 'corr-mae': 0.005846319721587551, 'corr-mre': 6.035390405508654e-10}\n",
      "13\tp:1.4\t{'data-mae': 611961130.4746553, 'data-mre': 62.07987165528082, 'corr-mae': 0.0059104751048591675, 'corr-mre': 5.99583074249821e-10}\n",
      "14\tp:1.5\t{'data-mae': 641583902.2169453, 'data-mre': 66.75993451017976, 'corr-mae': 0.006097786248566947, 'corr-mre': 6.345044026272208e-10}\n",
      "15\tp:1.6\t{'data-mae': 665838495.1469755, 'data-mre': 67.74287295214127, 'corr-mae': 0.00270755779780726, 'corr-mre': 2.754688190068516e-10}\n",
      "16\tp:1.7\t{'data-mae': 676699493.4094425, 'data-mre': 69.94294135644132, 'corr-mae': 0.00922677569516597, 'corr-mre': 9.536697420956374e-10}\n",
      "17\tp:1.8\t{'data-mae': 696475653.4962404, 'data-mre': 71.16297153785882, 'corr-mae': 0.0034568799251565585, 'corr-mre': 3.5320954363416186e-10}\n",
      "18\tp:1.9\t{'data-mae': 716491298.4074464, 'data-mre': 74.55015131197598, 'corr-mae': 0.007732032722778713, 'corr-mre': 8.045097138144281e-10}\n"
     ]
    }
   ],
   "source": [
    "def noise_add_normal_corr(df: pd.DataFrame, p: float) -> pd.DataFrame:\n",
    "    df_protected = df.copy()\n",
    "    df_protected = df_protected + np.random.default_rng().multivariate_normal([0.0, 0.0, 0.0, 0.0], df_protected.cov() * p, df_protected.shape[0])\n",
    "    return(df_protected)\n",
    "\n",
    "p = 0.1\n",
    "i = data_mae = 0\n",
    "while data_mae<7.0e+08:\n",
    "    df_noise_temp = noise_add_normal_corr(df_company, p)\n",
    "    i_l_temp = information_loss_2(df_company, df_noise_temp)\n",
    "    print('{}\\tp:{:.1f}\\t{}'.format(i, p, i_l_temp))\n",
    "    p += 0.1\n",
    "    i += 1\n",
    "    data_mae = i_l_temp['data-mae']\n",
    "\n",
    "# Una vez más el valor de p ha de quedar por debajo de 1.9 para matener data-mae en el umbral solicitado. \n",
    "# Podemos concluir que el error estándar de la media es \"independiente\" del tipo de ruido aditivo aplicado. "
   ]
  },
  {
   "cell_type": "markdown",
   "metadata": {},
   "source": [
    "*Nota*:\n",
    "\n",
    "En el cuestionario encontraréis preguntas relacionadas con este resultado. Por\n",
    "si no lo habéis podido generar un posible resultado seria:\n",
    "\n",
    "|   p |     data-mae |  data-mre | corr-mae | corr-mre |\n",
    "| --- | --- | --- | --- | --- |\n",
    "|  0.1 | 1.634213e+08 | 16.765217 | 0.004466 | 0.465132 |\n",
    "|  0.2 | 2.287595e+08 | 23.436578 | 0.003788 | 0.393341 |\n",
    "|  0.3 | 2.829093e+08 | 29.025049 | 0.000809 | 0.084139 |\n",
    "|  0.4 | 3.253294e+08 | 33.410478 | 0.004092 | 0.423678 |\n",
    "|  0.5 | 3.698282e+08 | 37.843985 | 0.004538 | 0.474141 |\n",
    "|  0.6 | 4.035310e+08 | 41.413029 | 0.009736 | 1.002164 |\n",
    "|  0.7 | 4.323943e+08 | 44.635360 | 0.006537 | 0.684411 |\n",
    "| ... | ... | ... | ... | ... |\n",
    "\n"
   ]
  },
  {
   "cell_type": "code",
   "execution_count": null,
   "metadata": {},
   "outputs": [],
   "source": []
  }
 ],
 "metadata": {
  "celltoolbar": "Edit Metadata",
  "kernelspec": {
   "display_name": "Python 3",
   "language": "python",
   "name": "python3"
  },
  "language_info": {
   "codemirror_mode": {
    "name": "ipython",
    "version": 3
   },
   "file_extension": ".py",
   "mimetype": "text/x-python",
   "name": "python",
   "nbconvert_exporter": "python",
   "pygments_lexer": "ipython3",
   "version": "3.8.5"
  },
  "name": "practica-1-es.ipynb"
 },
 "nbformat": 4,
 "nbformat_minor": 1
}
